{
  "cells": [
    {
      "cell_type": "code",
      "execution_count": null,
      "metadata": {
        "id": "Cl_z-DaliDu4",
        "colab": {
          "base_uri": "https://localhost:8080/"
        },
        "outputId": "79140a0e-92e6-4685-a7aa-9e74d97719f7"
      },
      "outputs": [
        {
          "output_type": "stream",
          "name": "stdout",
          "text": [
            "Drive already mounted at /content/gdrive; to attempt to forcibly remount, call drive.mount(\"/content/gdrive\", force_remount=True).\n"
          ]
        }
      ],
      "source": [
        "#connect to google drive\n",
        "from google.colab import drive\n",
        "drive.mount('/content/gdrive')"
      ]
    },
    {
      "cell_type": "code",
      "source": [
        "import pandas as pd\n",
        "df=pd.read_csv('/content/gdrive/MyDrive/ECG/Matadata_ECG.csv')"
      ],
      "metadata": {
        "id": "Ody17ijPqtSL"
      },
      "execution_count": null,
      "outputs": []
    },
    {
      "cell_type": "code",
      "source": [
        "df"
      ],
      "metadata": {
        "colab": {
          "base_uri": "https://localhost:8080/",
          "height": 424
        },
        "id": "-LTS98y5rGEc",
        "outputId": "5f8d2890-255e-4eb2-827e-6ace16ead6ea"
      },
      "execution_count": null,
      "outputs": [
        {
          "output_type": "execute_result",
          "data": {
            "text/plain": [
              "                                Location  Labels\n",
              "0         /ECG Dataset/ECG/Test/AF/0.png       1\n",
              "1        /ECG Dataset/ECG/Train/SR/1.png       0\n",
              "2        /ECG Dataset/ECG/Train/SR/2.png       0\n",
              "3        /ECG Dataset/ECG/Train/AF/3.png       1\n",
              "4        /ECG Dataset/ECG/Train/SR/4.png       0\n",
              "...                                  ...     ...\n",
              "3582  /ECG Dataset/ECG/Train/AF/3582.png       1\n",
              "3583  /ECG Dataset/ECG/Train/SR/3583.png       0\n",
              "3584  /ECG Dataset/ECG/Train/SR/3584.png       0\n",
              "3585   /ECG Dataset/ECG/Test/AF/3585.png       1\n",
              "3586  /ECG Dataset/ECG/Train/SR/3586.png       0\n",
              "\n",
              "[3587 rows x 2 columns]"
            ],
            "text/html": [
              "\n",
              "  <div id=\"df-fdb2e2ae-744d-4618-a674-cbb10be3f1b7\" class=\"colab-df-container\">\n",
              "    <div>\n",
              "<style scoped>\n",
              "    .dataframe tbody tr th:only-of-type {\n",
              "        vertical-align: middle;\n",
              "    }\n",
              "\n",
              "    .dataframe tbody tr th {\n",
              "        vertical-align: top;\n",
              "    }\n",
              "\n",
              "    .dataframe thead th {\n",
              "        text-align: right;\n",
              "    }\n",
              "</style>\n",
              "<table border=\"1\" class=\"dataframe\">\n",
              "  <thead>\n",
              "    <tr style=\"text-align: right;\">\n",
              "      <th></th>\n",
              "      <th>Location</th>\n",
              "      <th>Labels</th>\n",
              "    </tr>\n",
              "  </thead>\n",
              "  <tbody>\n",
              "    <tr>\n",
              "      <th>0</th>\n",
              "      <td>/ECG Dataset/ECG/Test/AF/0.png</td>\n",
              "      <td>1</td>\n",
              "    </tr>\n",
              "    <tr>\n",
              "      <th>1</th>\n",
              "      <td>/ECG Dataset/ECG/Train/SR/1.png</td>\n",
              "      <td>0</td>\n",
              "    </tr>\n",
              "    <tr>\n",
              "      <th>2</th>\n",
              "      <td>/ECG Dataset/ECG/Train/SR/2.png</td>\n",
              "      <td>0</td>\n",
              "    </tr>\n",
              "    <tr>\n",
              "      <th>3</th>\n",
              "      <td>/ECG Dataset/ECG/Train/AF/3.png</td>\n",
              "      <td>1</td>\n",
              "    </tr>\n",
              "    <tr>\n",
              "      <th>4</th>\n",
              "      <td>/ECG Dataset/ECG/Train/SR/4.png</td>\n",
              "      <td>0</td>\n",
              "    </tr>\n",
              "    <tr>\n",
              "      <th>...</th>\n",
              "      <td>...</td>\n",
              "      <td>...</td>\n",
              "    </tr>\n",
              "    <tr>\n",
              "      <th>3582</th>\n",
              "      <td>/ECG Dataset/ECG/Train/AF/3582.png</td>\n",
              "      <td>1</td>\n",
              "    </tr>\n",
              "    <tr>\n",
              "      <th>3583</th>\n",
              "      <td>/ECG Dataset/ECG/Train/SR/3583.png</td>\n",
              "      <td>0</td>\n",
              "    </tr>\n",
              "    <tr>\n",
              "      <th>3584</th>\n",
              "      <td>/ECG Dataset/ECG/Train/SR/3584.png</td>\n",
              "      <td>0</td>\n",
              "    </tr>\n",
              "    <tr>\n",
              "      <th>3585</th>\n",
              "      <td>/ECG Dataset/ECG/Test/AF/3585.png</td>\n",
              "      <td>1</td>\n",
              "    </tr>\n",
              "    <tr>\n",
              "      <th>3586</th>\n",
              "      <td>/ECG Dataset/ECG/Train/SR/3586.png</td>\n",
              "      <td>0</td>\n",
              "    </tr>\n",
              "  </tbody>\n",
              "</table>\n",
              "<p>3587 rows × 2 columns</p>\n",
              "</div>\n",
              "    <div class=\"colab-df-buttons\">\n",
              "\n",
              "  <div class=\"colab-df-container\">\n",
              "    <button class=\"colab-df-convert\" onclick=\"convertToInteractive('df-fdb2e2ae-744d-4618-a674-cbb10be3f1b7')\"\n",
              "            title=\"Convert this dataframe to an interactive table.\"\n",
              "            style=\"display:none;\">\n",
              "\n",
              "  <svg xmlns=\"http://www.w3.org/2000/svg\" height=\"24px\" viewBox=\"0 -960 960 960\">\n",
              "    <path d=\"M120-120v-720h720v720H120Zm60-500h600v-160H180v160Zm220 220h160v-160H400v160Zm0 220h160v-160H400v160ZM180-400h160v-160H180v160Zm440 0h160v-160H620v160ZM180-180h160v-160H180v160Zm440 0h160v-160H620v160Z\"/>\n",
              "  </svg>\n",
              "    </button>\n",
              "\n",
              "  <style>\n",
              "    .colab-df-container {\n",
              "      display:flex;\n",
              "      gap: 12px;\n",
              "    }\n",
              "\n",
              "    .colab-df-convert {\n",
              "      background-color: #E8F0FE;\n",
              "      border: none;\n",
              "      border-radius: 50%;\n",
              "      cursor: pointer;\n",
              "      display: none;\n",
              "      fill: #1967D2;\n",
              "      height: 32px;\n",
              "      padding: 0 0 0 0;\n",
              "      width: 32px;\n",
              "    }\n",
              "\n",
              "    .colab-df-convert:hover {\n",
              "      background-color: #E2EBFA;\n",
              "      box-shadow: 0px 1px 2px rgba(60, 64, 67, 0.3), 0px 1px 3px 1px rgba(60, 64, 67, 0.15);\n",
              "      fill: #174EA6;\n",
              "    }\n",
              "\n",
              "    .colab-df-buttons div {\n",
              "      margin-bottom: 4px;\n",
              "    }\n",
              "\n",
              "    [theme=dark] .colab-df-convert {\n",
              "      background-color: #3B4455;\n",
              "      fill: #D2E3FC;\n",
              "    }\n",
              "\n",
              "    [theme=dark] .colab-df-convert:hover {\n",
              "      background-color: #434B5C;\n",
              "      box-shadow: 0px 1px 3px 1px rgba(0, 0, 0, 0.15);\n",
              "      filter: drop-shadow(0px 1px 2px rgba(0, 0, 0, 0.3));\n",
              "      fill: #FFFFFF;\n",
              "    }\n",
              "  </style>\n",
              "\n",
              "    <script>\n",
              "      const buttonEl =\n",
              "        document.querySelector('#df-fdb2e2ae-744d-4618-a674-cbb10be3f1b7 button.colab-df-convert');\n",
              "      buttonEl.style.display =\n",
              "        google.colab.kernel.accessAllowed ? 'block' : 'none';\n",
              "\n",
              "      async function convertToInteractive(key) {\n",
              "        const element = document.querySelector('#df-fdb2e2ae-744d-4618-a674-cbb10be3f1b7');\n",
              "        const dataTable =\n",
              "          await google.colab.kernel.invokeFunction('convertToInteractive',\n",
              "                                                    [key], {});\n",
              "        if (!dataTable) return;\n",
              "\n",
              "        const docLinkHtml = 'Like what you see? Visit the ' +\n",
              "          '<a target=\"_blank\" href=https://colab.research.google.com/notebooks/data_table.ipynb>data table notebook</a>'\n",
              "          + ' to learn more about interactive tables.';\n",
              "        element.innerHTML = '';\n",
              "        dataTable['output_type'] = 'display_data';\n",
              "        await google.colab.output.renderOutput(dataTable, element);\n",
              "        const docLink = document.createElement('div');\n",
              "        docLink.innerHTML = docLinkHtml;\n",
              "        element.appendChild(docLink);\n",
              "      }\n",
              "    </script>\n",
              "  </div>\n",
              "\n",
              "\n",
              "<div id=\"df-b7545a52-1afb-4c1c-a279-4f6b1082cf6a\">\n",
              "  <button class=\"colab-df-quickchart\" onclick=\"quickchart('df-b7545a52-1afb-4c1c-a279-4f6b1082cf6a')\"\n",
              "            title=\"Suggest charts\"\n",
              "            style=\"display:none;\">\n",
              "\n",
              "<svg xmlns=\"http://www.w3.org/2000/svg\" height=\"24px\"viewBox=\"0 0 24 24\"\n",
              "     width=\"24px\">\n",
              "    <g>\n",
              "        <path d=\"M19 3H5c-1.1 0-2 .9-2 2v14c0 1.1.9 2 2 2h14c1.1 0 2-.9 2-2V5c0-1.1-.9-2-2-2zM9 17H7v-7h2v7zm4 0h-2V7h2v10zm4 0h-2v-4h2v4z\"/>\n",
              "    </g>\n",
              "</svg>\n",
              "  </button>\n",
              "\n",
              "<style>\n",
              "  .colab-df-quickchart {\n",
              "      --bg-color: #E8F0FE;\n",
              "      --fill-color: #1967D2;\n",
              "      --hover-bg-color: #E2EBFA;\n",
              "      --hover-fill-color: #174EA6;\n",
              "      --disabled-fill-color: #AAA;\n",
              "      --disabled-bg-color: #DDD;\n",
              "  }\n",
              "\n",
              "  [theme=dark] .colab-df-quickchart {\n",
              "      --bg-color: #3B4455;\n",
              "      --fill-color: #D2E3FC;\n",
              "      --hover-bg-color: #434B5C;\n",
              "      --hover-fill-color: #FFFFFF;\n",
              "      --disabled-bg-color: #3B4455;\n",
              "      --disabled-fill-color: #666;\n",
              "  }\n",
              "\n",
              "  .colab-df-quickchart {\n",
              "    background-color: var(--bg-color);\n",
              "    border: none;\n",
              "    border-radius: 50%;\n",
              "    cursor: pointer;\n",
              "    display: none;\n",
              "    fill: var(--fill-color);\n",
              "    height: 32px;\n",
              "    padding: 0;\n",
              "    width: 32px;\n",
              "  }\n",
              "\n",
              "  .colab-df-quickchart:hover {\n",
              "    background-color: var(--hover-bg-color);\n",
              "    box-shadow: 0 1px 2px rgba(60, 64, 67, 0.3), 0 1px 3px 1px rgba(60, 64, 67, 0.15);\n",
              "    fill: var(--button-hover-fill-color);\n",
              "  }\n",
              "\n",
              "  .colab-df-quickchart-complete:disabled,\n",
              "  .colab-df-quickchart-complete:disabled:hover {\n",
              "    background-color: var(--disabled-bg-color);\n",
              "    fill: var(--disabled-fill-color);\n",
              "    box-shadow: none;\n",
              "  }\n",
              "\n",
              "  .colab-df-spinner {\n",
              "    border: 2px solid var(--fill-color);\n",
              "    border-color: transparent;\n",
              "    border-bottom-color: var(--fill-color);\n",
              "    animation:\n",
              "      spin 1s steps(1) infinite;\n",
              "  }\n",
              "\n",
              "  @keyframes spin {\n",
              "    0% {\n",
              "      border-color: transparent;\n",
              "      border-bottom-color: var(--fill-color);\n",
              "      border-left-color: var(--fill-color);\n",
              "    }\n",
              "    20% {\n",
              "      border-color: transparent;\n",
              "      border-left-color: var(--fill-color);\n",
              "      border-top-color: var(--fill-color);\n",
              "    }\n",
              "    30% {\n",
              "      border-color: transparent;\n",
              "      border-left-color: var(--fill-color);\n",
              "      border-top-color: var(--fill-color);\n",
              "      border-right-color: var(--fill-color);\n",
              "    }\n",
              "    40% {\n",
              "      border-color: transparent;\n",
              "      border-right-color: var(--fill-color);\n",
              "      border-top-color: var(--fill-color);\n",
              "    }\n",
              "    60% {\n",
              "      border-color: transparent;\n",
              "      border-right-color: var(--fill-color);\n",
              "    }\n",
              "    80% {\n",
              "      border-color: transparent;\n",
              "      border-right-color: var(--fill-color);\n",
              "      border-bottom-color: var(--fill-color);\n",
              "    }\n",
              "    90% {\n",
              "      border-color: transparent;\n",
              "      border-bottom-color: var(--fill-color);\n",
              "    }\n",
              "  }\n",
              "</style>\n",
              "\n",
              "  <script>\n",
              "    async function quickchart(key) {\n",
              "      const quickchartButtonEl =\n",
              "        document.querySelector('#' + key + ' button');\n",
              "      quickchartButtonEl.disabled = true;  // To prevent multiple clicks.\n",
              "      quickchartButtonEl.classList.add('colab-df-spinner');\n",
              "      try {\n",
              "        const charts = await google.colab.kernel.invokeFunction(\n",
              "            'suggestCharts', [key], {});\n",
              "      } catch (error) {\n",
              "        console.error('Error during call to suggestCharts:', error);\n",
              "      }\n",
              "      quickchartButtonEl.classList.remove('colab-df-spinner');\n",
              "      quickchartButtonEl.classList.add('colab-df-quickchart-complete');\n",
              "    }\n",
              "    (() => {\n",
              "      let quickchartButtonEl =\n",
              "        document.querySelector('#df-b7545a52-1afb-4c1c-a279-4f6b1082cf6a button');\n",
              "      quickchartButtonEl.style.display =\n",
              "        google.colab.kernel.accessAllowed ? 'block' : 'none';\n",
              "    })();\n",
              "  </script>\n",
              "</div>\n",
              "\n",
              "  <div id=\"id_bce9dd7a-c693-4a48-af3c-59c312406536\">\n",
              "    <style>\n",
              "      .colab-df-generate {\n",
              "        background-color: #E8F0FE;\n",
              "        border: none;\n",
              "        border-radius: 50%;\n",
              "        cursor: pointer;\n",
              "        display: none;\n",
              "        fill: #1967D2;\n",
              "        height: 32px;\n",
              "        padding: 0 0 0 0;\n",
              "        width: 32px;\n",
              "      }\n",
              "\n",
              "      .colab-df-generate:hover {\n",
              "        background-color: #E2EBFA;\n",
              "        box-shadow: 0px 1px 2px rgba(60, 64, 67, 0.3), 0px 1px 3px 1px rgba(60, 64, 67, 0.15);\n",
              "        fill: #174EA6;\n",
              "      }\n",
              "\n",
              "      [theme=dark] .colab-df-generate {\n",
              "        background-color: #3B4455;\n",
              "        fill: #D2E3FC;\n",
              "      }\n",
              "\n",
              "      [theme=dark] .colab-df-generate:hover {\n",
              "        background-color: #434B5C;\n",
              "        box-shadow: 0px 1px 3px 1px rgba(0, 0, 0, 0.15);\n",
              "        filter: drop-shadow(0px 1px 2px rgba(0, 0, 0, 0.3));\n",
              "        fill: #FFFFFF;\n",
              "      }\n",
              "    </style>\n",
              "    <button class=\"colab-df-generate\" onclick=\"generateWithVariable('df')\"\n",
              "            title=\"Generate code using this dataframe.\"\n",
              "            style=\"display:none;\">\n",
              "\n",
              "  <svg xmlns=\"http://www.w3.org/2000/svg\" height=\"24px\"viewBox=\"0 0 24 24\"\n",
              "       width=\"24px\">\n",
              "    <path d=\"M7,19H8.4L18.45,9,17,7.55,7,17.6ZM5,21V16.75L18.45,3.32a2,2,0,0,1,2.83,0l1.4,1.43a1.91,1.91,0,0,1,.58,1.4,1.91,1.91,0,0,1-.58,1.4L9.25,21ZM18.45,9,17,7.55Zm-12,3A5.31,5.31,0,0,0,4.9,8.1,5.31,5.31,0,0,0,1,6.5,5.31,5.31,0,0,0,4.9,4.9,5.31,5.31,0,0,0,6.5,1,5.31,5.31,0,0,0,8.1,4.9,5.31,5.31,0,0,0,12,6.5,5.46,5.46,0,0,0,6.5,12Z\"/>\n",
              "  </svg>\n",
              "    </button>\n",
              "    <script>\n",
              "      (() => {\n",
              "      const buttonEl =\n",
              "        document.querySelector('#id_bce9dd7a-c693-4a48-af3c-59c312406536 button.colab-df-generate');\n",
              "      buttonEl.style.display =\n",
              "        google.colab.kernel.accessAllowed ? 'block' : 'none';\n",
              "\n",
              "      buttonEl.onclick = () => {\n",
              "        google.colab.notebook.generateWithVariable('df');\n",
              "      }\n",
              "      })();\n",
              "    </script>\n",
              "  </div>\n",
              "\n",
              "    </div>\n",
              "  </div>\n"
            ],
            "application/vnd.google.colaboratory.intrinsic+json": {
              "type": "dataframe",
              "variable_name": "df",
              "summary": "{\n  \"name\": \"df\",\n  \"rows\": 3587,\n  \"fields\": [\n    {\n      \"column\": \"Location\",\n      \"properties\": {\n        \"dtype\": \"string\",\n        \"num_unique_values\": 3587,\n        \"samples\": [\n          \"/ECG Dataset/ECG/Train/SR/3374.png\",\n          \"/ECG Dataset/ECG/Test/AF/2940.png\",\n          \"/ECG Dataset/ECG/Train/SR/2566.png\"\n        ],\n        \"semantic_type\": \"\",\n        \"description\": \"\"\n      }\n    },\n    {\n      \"column\": \"Labels\",\n      \"properties\": {\n        \"dtype\": \"number\",\n        \"std\": 0,\n        \"min\": 0,\n        \"max\": 1,\n        \"num_unique_values\": 2,\n        \"samples\": [\n          0,\n          1\n        ],\n        \"semantic_type\": \"\",\n        \"description\": \"\"\n      }\n    }\n  ]\n}"
            }
          },
          "metadata": {},
          "execution_count": 12
        }
      ]
    },
    {
      "cell_type": "code",
      "source": [
        "df.Labels.value_counts()"
      ],
      "metadata": {
        "colab": {
          "base_uri": "https://localhost:8080/"
        },
        "id": "cfxND8NerI8i",
        "outputId": "b33b4a97-d76b-4af4-bdc5-38dfdf3a88b5"
      },
      "execution_count": null,
      "outputs": [
        {
          "output_type": "execute_result",
          "data": {
            "text/plain": [
              "Labels\n",
              "0    2000\n",
              "1    1587\n",
              "Name: count, dtype: int64"
            ]
          },
          "metadata": {},
          "execution_count": 13
        }
      ]
    },
    {
      "cell_type": "code",
      "source": [
        "import os\n",
        "\n",
        "def count_images(folder_path):\n",
        "    image_extensions = ['.jpg', '.jpeg', '.png', '.gif', '.bmp', '.tiff']\n",
        "    image_count = 0\n",
        "    for filename in os.listdir(folder_path):\n",
        "        if any(filename.lower().endswith(ext) for ext in image_extensions):\n",
        "            image_count += 1\n",
        "    return image_count\n",
        "\n",
        "folder_path = '/content/gdrive/MyDrive/ECG/Test/SR'\n",
        "num_images = count_images(folder_path)\n",
        "print(\"SR folder:\", num_images)"
      ],
      "metadata": {
        "colab": {
          "base_uri": "https://localhost:8080/"
        },
        "id": "7iLD7EddrmNL",
        "outputId": "a9536ce1-ef63-4018-c6c0-865baaac29f3"
      },
      "execution_count": null,
      "outputs": [
        {
          "output_type": "stream",
          "name": "stdout",
          "text": [
            "SR folder: 403\n"
          ]
        }
      ]
    },
    {
      "cell_type": "code",
      "source": [
        "folder_path = '/content/gdrive/MyDrive/ECG/Test/AF'\n",
        "num_images = count_images(folder_path)\n",
        "print(\"AF folder:\", num_images)"
      ],
      "metadata": {
        "colab": {
          "base_uri": "https://localhost:8080/"
        },
        "id": "PQHp81NgrxP6",
        "outputId": "c17023fe-ca1e-419b-f262-c10072940915"
      },
      "execution_count": null,
      "outputs": [
        {
          "output_type": "stream",
          "name": "stdout",
          "text": [
            "AF folder: 315\n"
          ]
        }
      ]
    },
    {
      "cell_type": "code",
      "source": [
        "folder_path = '/content/gdrive/MyDrive/ECG/Train/SR'\n",
        "num_images = count_images(folder_path)\n",
        "print(\"SR folder:\", num_images)"
      ],
      "metadata": {
        "colab": {
          "base_uri": "https://localhost:8080/"
        },
        "id": "FLdjI-gysEHC",
        "outputId": "1434175b-792f-47d4-cec3-dd11b502a4d5"
      },
      "execution_count": null,
      "outputs": [
        {
          "output_type": "stream",
          "name": "stdout",
          "text": [
            "SR folder: 1597\n"
          ]
        }
      ]
    },
    {
      "cell_type": "code",
      "source": [
        "folder_path = '/content/gdrive/MyDrive/ECG/Train/AF'\n",
        "num_images = count_images(folder_path)\n",
        "print(\"AF folder:\", num_images)"
      ],
      "metadata": {
        "colab": {
          "base_uri": "https://localhost:8080/"
        },
        "id": "5Wvj8PTdsJW7",
        "outputId": "5351c8dd-16c9-40d2-8dfb-e56d64d3b11a"
      },
      "execution_count": null,
      "outputs": [
        {
          "output_type": "stream",
          "name": "stdout",
          "text": [
            "AF folder: 1272\n"
          ]
        }
      ]
    },
    {
      "cell_type": "code",
      "execution_count": null,
      "metadata": {
        "colab": {
          "base_uri": "https://localhost:8080/"
        },
        "id": "XBcUCKLciQBW",
        "outputId": "4d1e8d30-c649-4919-ad30-d2958feed70d"
      },
      "outputs": [
        {
          "output_type": "stream",
          "name": "stdout",
          "text": [
            "Found 2869 files belonging to 2 classes.\n",
            "Found 718 files belonging to 2 classes.\n"
          ]
        }
      ],
      "source": [
        "import tensorflow as tf\n",
        "\n",
        "# defining the path\n",
        "ds_trainn= tf.keras.preprocessing.image_dataset_from_directory('/content/gdrive/MyDrive/ECG/Train')\n",
        "ds_testt= tf.keras.preprocessing.image_dataset_from_directory('/content/gdrive/MyDrive/ECG/Test')\n",
        "\n"
      ]
    },
    {
      "cell_type": "code",
      "execution_count": null,
      "metadata": {
        "id": "9caNgC3ZiXcP"
      },
      "outputs": [],
      "source": [
        "# define the batch size and print the image labels\n",
        "#dataset_name = dataset\n",
        "#class_names = dataset.class_names\n",
        "#print(class_names)\n",
        "\n",
        "import tensorflow_datasets as tfds\n",
        "\n",
        "batch_size = 32\n",
        "\n",
        "size= (512, 512)\n",
        "ds_train=ds_trainn.map(lambda image, label:(tf.image.resize(image, size), label))\n",
        "ds_test=ds_testt.map(lambda image, label:(tf.image.resize(image, size), label))"
      ]
    },
    {
      "cell_type": "code",
      "execution_count": null,
      "metadata": {
        "colab": {
          "base_uri": "https://localhost:8080/",
          "height": 727
        },
        "id": "jheVnHibkqGH",
        "outputId": "5cd2cc51-ff59-4189-e809-c549eba26bc8"
      },
      "outputs": [
        {
          "output_type": "stream",
          "name": "stdout",
          "text": [
            "Number of classes: 2\n",
            "Number of training samples: 90\n",
            "Number of validation samples: 23\n"
          ]
        },
        {
          "output_type": "display_data",
          "data": {
            "text/plain": [
              "<Figure size 1200x800 with 4 Axes>"
            ],
            "image/png": "[encoded data removed]"
          },
          "metadata": {}
        }
      ],
      "source": [
        "import matplotlib.pyplot as plt\n",
        "import seaborn as sns\n",
        "import pandas as pd\n",
        "\n",
        "# Get information about the dataset\n",
        "num_classes = 2\n",
        "num_train_samples = ds_trainn.cardinality().numpy()\n",
        "num_test_samples = ds_testt.cardinality().numpy()\n",
        "class_names=['AF', 'SR']\n",
        "\n",
        "print(\"Number of classes:\", num_classes)\n",
        "print(\"Number of training samples:\", num_train_samples)\n",
        "print(\"Number of validation samples:\", num_test_samples)\n",
        "\n",
        "\n",
        "plt.figure(figsize=(12, 8))\n",
        "for images, labels in ds_trainn.take(1):\n",
        "    for i in range(4):\n",
        "        ax = plt.subplot(2, 2, i + 1)\n",
        "        plt.imshow(images[i].numpy().astype(\"uint8\"))\n",
        "        plt.title(class_names)\n",
        "        plt.axis(\"off\")\n",
        "plt.show()"
      ]
    },
    {
      "cell_type": "markdown",
      "metadata": {
        "id": "KoQyukqAkwQV"
      },
      "source": [
        "\n",
        "# **1. Simple CNN**"
      ]
    },
    {
      "cell_type": "code",
      "execution_count": null,
      "metadata": {
        "colab": {
          "base_uri": "https://localhost:8080/"
        },
        "id": "adSOgDFLkuvO",
        "outputId": "0d15a81e-0c8f-4f18-ebfc-8644debf17a6"
      },
      "outputs": [
        {
          "output_type": "stream",
          "name": "stdout",
          "text": [
            "Model: \"sequential\"\n",
            "_________________________________________________________________\n",
            " Layer (type)                Output Shape              Param #   \n",
            "=================================================================\n",
            " conv2d (Conv2D)             (None, 222, 222, 32)      896       \n",
            "                                                                 \n",
            " max_pooling2d (MaxPooling2  (None, 111, 111, 32)      0         \n",
            " D)                                                              \n",
            "                                                                 \n",
            " conv2d_1 (Conv2D)           (None, 109, 109, 64)      18496     \n",
            "                                                                 \n",
            " max_pooling2d_1 (MaxPoolin  (None, 54, 54, 64)        0         \n",
            " g2D)                                                            \n",
            "                                                                 \n",
            " conv2d_2 (Conv2D)           (None, 52, 52, 128)       73856     \n",
            "                                                                 \n",
            " max_pooling2d_2 (MaxPoolin  (None, 26, 26, 128)       0         \n",
            " g2D)                                                            \n",
            "                                                                 \n",
            " flatten (Flatten)           (None, 86528)             0         \n",
            "                                                                 \n",
            " dense (Dense)               (None, 128)               11075712  \n",
            "                                                                 \n",
            " dense_1 (Dense)             (None, 2)                 258       \n",
            "                                                                 \n",
            "=================================================================\n",
            "Total params: 11169218 (42.61 MB)\n",
            "Trainable params: 11169218 (42.61 MB)\n",
            "Non-trainable params: 0 (0.00 Byte)\n",
            "_________________________________________________________________\n",
            "Epoch 1/10\n",
            "90/90 [==============================] - 394s 4s/step - loss: 124.6026 - accuracy: 0.5361 - val_loss: 0.6889 - val_accuracy: 0.5864\n",
            "Epoch 2/10\n",
            "90/90 [==============================] - 15s 155ms/step - loss: 0.6765 - accuracy: 0.5904 - val_loss: 0.6843 - val_accuracy: 0.6003\n",
            "Epoch 3/10\n",
            "90/90 [==============================] - 14s 149ms/step - loss: 0.6705 - accuracy: 0.5904 - val_loss: 0.6863 - val_accuracy: 0.5613\n",
            "Epoch 4/10\n",
            "90/90 [==============================] - 14s 148ms/step - loss: 0.6632 - accuracy: 0.5995 - val_loss: 0.6957 - val_accuracy: 0.6003\n",
            "Epoch 5/10\n",
            "90/90 [==============================] - 14s 143ms/step - loss: 0.6441 - accuracy: 0.6246 - val_loss: 0.6740 - val_accuracy: 0.6045\n",
            "Epoch 6/10\n",
            "90/90 [==============================] - 16s 173ms/step - loss: 0.6738 - accuracy: 0.6211 - val_loss: 0.6879 - val_accuracy: 0.5641\n",
            "Epoch 7/10\n",
            "90/90 [==============================] - 17s 179ms/step - loss: 0.6815 - accuracy: 0.5744 - val_loss: 0.6877 - val_accuracy: 0.5599\n",
            "Epoch 8/10\n",
            "90/90 [==============================] - 14s 147ms/step - loss: 0.6823 - accuracy: 0.5661 - val_loss: 0.6858 - val_accuracy: 0.5613\n",
            "Epoch 9/10\n",
            "90/90 [==============================] - 14s 145ms/step - loss: 0.6873 - accuracy: 0.5594 - val_loss: 0.6857 - val_accuracy: 0.5613\n",
            "Epoch 10/10\n",
            "90/90 [==============================] - 17s 177ms/step - loss: 0.6955 - accuracy: 0.5559 - val_loss: 0.6856 - val_accuracy: 0.5613\n",
            "23/23 [==============================] - 2s 74ms/step - loss: 0.6856 - accuracy: 0.5613\n",
            "Validation Accuracy: 0.5612813234329224\n"
          ]
        }
      ],
      "source": [
        "import tensorflow as tf\n",
        "from keras import layers, models\n",
        "\n",
        "model = models.Sequential()\n",
        "\n",
        "# Convolutional and pooling layers\n",
        "model.add(layers.Conv2D(32, (3, 3), activation='relu', input_shape=(224, 224, 3)))\n",
        "model.add(layers.MaxPooling2D((2, 2)))\n",
        "model.add(layers.Conv2D(64, (3, 3), activation='relu'))\n",
        "model.add(layers.MaxPooling2D((2, 2)))\n",
        "model.add(layers.Conv2D(128, (3, 3), activation='relu'))\n",
        "model.add(layers.MaxPooling2D((2, 2)))\n",
        "\n",
        "# Flatten layer to transition from convolutional to dense layers\n",
        "model.add(layers.Flatten())\n",
        "model.add(layers.Dense(128, activation='relu'))\n",
        "model.add(layers.Dense(len(class_names), activation='softmax'))\n",
        "\n",
        "# Display the model summary\n",
        "model.summary()\n",
        "model.compile(optimizer='adam',\n",
        "              loss='sparse_categorical_crossentropy',\n",
        "              metrics=['accuracy'])\n",
        "\n",
        "# Train the model\n",
        "history = model.fit(ds_train, validation_data=ds_test, epochs=10)\n",
        "\n",
        "# Evaluate the model on the validation set\n",
        "val_loss, val_acc = model.evaluate(ds_test)\n",
        "print(\"Validation Accuracy:\", val_acc)"
      ]
    },
    {
      "cell_type": "markdown",
      "metadata": {
        "id": "OPaH2OVglFWW"
      },
      "source": [
        "# **2.VGG16**"
      ]
    },
    {
      "cell_type": "code",
      "execution_count": null,
      "metadata": {
        "colab": {
          "base_uri": "https://localhost:8080/"
        },
        "id": "w0QcFog0k-GW",
        "outputId": "b7be402d-1ac2-4975-f969-69754df1c4cb"
      },
      "outputs": [
        {
          "output_type": "stream",
          "name": "stdout",
          "text": [
            "Model: \"sequential_3\"\n",
            "_________________________________________________________________\n",
            " Layer (type)                Output Shape              Param #   \n",
            "=================================================================\n",
            " vgg16 (Functional)          (None, 7, 7, 512)         14714688  \n",
            "                                                                 \n",
            " flatten_3 (Flatten)         (None, 25088)             0         \n",
            "                                                                 \n",
            " dense_6 (Dense)             (None, 256)               6422784   \n",
            "                                                                 \n",
            " dropout_2 (Dropout)         (None, 256)               0         \n",
            "                                                                 \n",
            " dense_7 (Dense)             (None, 4)                 1028      \n",
            "                                                                 \n",
            "=================================================================\n",
            "Total params: 21138500 (80.64 MB)\n",
            "Trainable params: 6423812 (24.50 MB)\n",
            "Non-trainable params: 14714688 (56.13 MB)\n",
            "_________________________________________________________________\n",
            "Epoch 1/15\n",
            "90/90 [==============================] - 23s 226ms/step - loss: 4.8447 - accuracy: 0.7226 - val_loss: 0.4198 - val_accuracy: 0.8273\n",
            "Epoch 2/15\n",
            "90/90 [==============================] - 17s 179ms/step - loss: 0.4190 - accuracy: 0.8191 - val_loss: 0.3660 - val_accuracy: 0.8524\n",
            "Epoch 3/15\n",
            "90/90 [==============================] - 19s 198ms/step - loss: 0.3670 - accuracy: 0.8432 - val_loss: 0.3586 - val_accuracy: 0.8482\n",
            "Epoch 4/15\n",
            "90/90 [==============================] - 17s 180ms/step - loss: 0.3056 - accuracy: 0.8696 - val_loss: 0.3325 - val_accuracy: 0.8719\n",
            "Epoch 5/15\n",
            "90/90 [==============================] - 18s 196ms/step - loss: 0.2652 - accuracy: 0.8951 - val_loss: 0.3456 - val_accuracy: 0.8733\n",
            "Epoch 6/15\n",
            "90/90 [==============================] - 17s 180ms/step - loss: 0.2525 - accuracy: 0.8913 - val_loss: 0.3237 - val_accuracy: 0.8788\n",
            "Epoch 7/15\n",
            "90/90 [==============================] - 17s 181ms/step - loss: 0.2450 - accuracy: 0.8933 - val_loss: 0.3357 - val_accuracy: 0.8733\n",
            "Epoch 8/15\n",
            "90/90 [==============================] - 18s 181ms/step - loss: 0.2425 - accuracy: 0.9010 - val_loss: 0.3341 - val_accuracy: 0.8816\n",
            "Epoch 9/15\n",
            "90/90 [==============================] - 18s 196ms/step - loss: 0.2113 - accuracy: 0.9108 - val_loss: 0.3789 - val_accuracy: 0.8733\n",
            "Epoch 10/15\n",
            "90/90 [==============================] - 18s 184ms/step - loss: 0.2000 - accuracy: 0.9153 - val_loss: 0.3469 - val_accuracy: 0.8788\n",
            "Epoch 11/15\n",
            "90/90 [==============================] - 17s 179ms/step - loss: 0.1813 - accuracy: 0.9205 - val_loss: 0.4606 - val_accuracy: 0.8384\n",
            "Epoch 12/15\n",
            "90/90 [==============================] - 18s 190ms/step - loss: 0.2010 - accuracy: 0.9226 - val_loss: 0.3399 - val_accuracy: 0.8886\n",
            "Epoch 13/15\n",
            "90/90 [==============================] - 19s 198ms/step - loss: 0.2575 - accuracy: 0.8947 - val_loss: 0.3189 - val_accuracy: 0.8774\n",
            "Epoch 14/15\n",
            "90/90 [==============================] - 20s 212ms/step - loss: 0.2285 - accuracy: 0.9000 - val_loss: 0.3180 - val_accuracy: 0.8914\n",
            "Epoch 15/15\n",
            "90/90 [==============================] - 17s 180ms/step - loss: 0.2119 - accuracy: 0.9080 - val_loss: 0.3584 - val_accuracy: 0.8844\n",
            "23/23 [==============================] - 4s 130ms/step - loss: 0.3584 - accuracy: 0.8844\n",
            "Validation Accuracy: 0.8844011425971985\n"
          ]
        }
      ],
      "source": [
        "import tensorflow as tf\n",
        "from keras import layers, models\n",
        "\n",
        "# Load the VGG16 model pre-trained on ImageNet\n",
        "base_model = tf.keras.applications.VGG16(weights='imagenet', include_top=False, input_shape=(224, 224, 3))\n",
        "\n",
        "# Freeze the layers of the pre-trained model\n",
        "for layer in base_model.layers:\n",
        "    layer.trainable = False\n",
        "\n",
        "model = models.Sequential()\n",
        "model.add(base_model)\n",
        "model.add(layers.Flatten())\n",
        "\n",
        "# Dense layers\n",
        "model.add(layers.Dense(256, activation='relu'))\n",
        "model.add(layers.Dropout(0.5))\n",
        "model.add(layers.Dense(4, activation='softmax'))\n",
        "\n",
        "# Display the model summary\n",
        "model.summary()\n",
        "\n",
        "# Compile the model\n",
        "model.compile(optimizer='adam',\n",
        "              loss='sparse_categorical_crossentropy',\n",
        "              metrics=['accuracy'])\n",
        "\n",
        "# Train the model\n",
        "history = model.fit(ds_train, validation_data=ds_test, epochs=100)\n",
        "\n",
        "# Evaluate the model on the validation set\n",
        "val_loss, val_acc = model.evaluate(ds_test)\n",
        "print(\"Validation Accuracy:\", val_acc)"
      ]
    },
    {
      "cell_type": "markdown",
      "metadata": {
        "id": "L0Fw12IUlM8W"
      },
      "source": [
        "# **3.ResNet32**"
      ]
    },
    {
      "cell_type": "code",
      "execution_count": null,
      "metadata": {
        "colab": {
          "base_uri": "https://localhost:8080/"
        },
        "id": "4fddPD9clJDu",
        "outputId": "22a1efec-a485-4106-be5c-aa4777d990d8"
      },
      "outputs": [
        {
          "output_type": "stream",
          "name": "stdout",
          "text": [
            "Downloading data from https://storage.googleapis.com/tensorflow/keras-applications/resnet/resnet50_weights_tf_dim_ordering_tf_kernels_notop.h5\n",
            "94765736/94765736 [==============================] - 1s 0us/step\n",
            "Model: \"sequential_2\"\n",
            "_________________________________________________________________\n",
            " Layer (type)                Output Shape              Param #   \n",
            "=================================================================\n",
            " resnet50 (Functional)       (None, 7, 7, 2048)        23587712  \n",
            "                                                                 \n",
            " flatten_2 (Flatten)         (None, 100352)            0         \n",
            "                                                                 \n",
            " dense_4 (Dense)             (None, 256)               25690368  \n",
            "                                                                 \n",
            " dropout_1 (Dropout)         (None, 256)               0         \n",
            "                                                                 \n",
            " dense_5 (Dense)             (None, 2)                 514       \n",
            "                                                                 \n",
            "=================================================================\n",
            "Total params: 49278594 (187.98 MB)\n",
            "Trainable params: 25690882 (98.00 MB)\n",
            "Non-trainable params: 23587712 (89.98 MB)\n",
            "_________________________________________________________________\n",
            "Epoch 1/15\n",
            "90/90 [==============================] - 26s 211ms/step - loss: 2.6775 - accuracy: 0.6598 - val_loss: 0.5239 - val_accuracy: 0.7521\n",
            "Epoch 2/15\n",
            "90/90 [==============================] - 16s 174ms/step - loss: 0.5119 - accuracy: 0.7539 - val_loss: 0.4465 - val_accuracy: 0.8106\n",
            "Epoch 3/15\n",
            "90/90 [==============================] - 17s 185ms/step - loss: 0.4606 - accuracy: 0.7905 - val_loss: 0.4245 - val_accuracy: 0.8203\n",
            "Epoch 4/15\n",
            "90/90 [==============================] - 17s 184ms/step - loss: 0.4017 - accuracy: 0.8160 - val_loss: 0.3965 - val_accuracy: 0.8231\n",
            "Epoch 5/15\n",
            "90/90 [==============================] - 17s 184ms/step - loss: 0.3871 - accuracy: 0.8215 - val_loss: 0.4082 - val_accuracy: 0.8175\n",
            "Epoch 6/15\n",
            "90/90 [==============================] - 17s 172ms/step - loss: 0.3874 - accuracy: 0.8118 - val_loss: 0.3883 - val_accuracy: 0.8398\n",
            "Epoch 7/15\n",
            "90/90 [==============================] - 16s 165ms/step - loss: 0.3855 - accuracy: 0.8104 - val_loss: 0.4017 - val_accuracy: 0.8426\n",
            "Epoch 8/15\n",
            "90/90 [==============================] - 17s 180ms/step - loss: 0.3608 - accuracy: 0.8289 - val_loss: 0.4468 - val_accuracy: 0.7911\n",
            "Epoch 9/15\n",
            "90/90 [==============================] - 17s 183ms/step - loss: 0.3965 - accuracy: 0.7867 - val_loss: 0.4169 - val_accuracy: 0.8189\n",
            "Epoch 10/15\n",
            "90/90 [==============================] - 16s 170ms/step - loss: 0.3804 - accuracy: 0.8198 - val_loss: 0.4016 - val_accuracy: 0.8175\n",
            "Epoch 11/15\n",
            "90/90 [==============================] - 17s 183ms/step - loss: 0.3457 - accuracy: 0.8303 - val_loss: 0.4147 - val_accuracy: 0.8175\n",
            "Epoch 12/15\n",
            "90/90 [==============================] - 16s 158ms/step - loss: 0.3502 - accuracy: 0.7944 - val_loss: 0.3824 - val_accuracy: 0.8329\n",
            "Epoch 13/15\n",
            "90/90 [==============================] - 17s 176ms/step - loss: 0.3419 - accuracy: 0.8201 - val_loss: 0.4062 - val_accuracy: 0.8384\n",
            "Epoch 14/15\n",
            "90/90 [==============================] - 17s 182ms/step - loss: 0.3279 - accuracy: 0.8480 - val_loss: 0.4284 - val_accuracy: 0.8370\n",
            "Epoch 15/15\n",
            "90/90 [==============================] - 15s 156ms/step - loss: 0.3538 - accuracy: 0.8052 - val_loss: 0.3776 - val_accuracy: 0.8412\n",
            "23/23 [==============================] - 3s 106ms/step - loss: 0.3776 - accuracy: 0.8412\n",
            "Validation Accuracy: 0.8412256240844727\n"
          ]
        }
      ],
      "source": [
        "import tensorflow as tf\n",
        "from keras import layers, models\n",
        "from keras.applications import ResNet50\n",
        "\n",
        "# Load the ResNet50 model pre-trained on ImageNet\n",
        "base_model = ResNet50(weights='imagenet', include_top=False, input_shape=(224, 224, 3))\n",
        "\n",
        "# Freeze the layers of the pre-trained model\n",
        "for layer in base_model.layers:\n",
        "    layer.trainable = False\n",
        "\n",
        "# Create a new model using the pre-trained ResNet50 as the base\n",
        "model = models.Sequential()\n",
        "\n",
        "# Add the ResNet50 base model\n",
        "model.add(base_model)\n",
        "model.add(layers.Flatten())\n",
        "\n",
        "# Dense layers\n",
        "model.add(layers.Dense(256, activation='relu'))\n",
        "model.add(layers.Dropout(0.5))\n",
        "model.add(layers.Dense(len(class_names), activation='softmax'))\n",
        "\n",
        "# Display the model summary\n",
        "model.summary()\n",
        "\n",
        "# Compile the model\n",
        "model.compile(optimizer='adam',\n",
        "              loss='sparse_categorical_crossentropy',\n",
        "              metrics=['accuracy'])\n",
        "\n",
        "# Train the model\n",
        "history = model.fit(ds_train, validation_data=ds_test, epochs=15)\n",
        "\n",
        "# Evaluate the model on the validation set\n",
        "val_loss, val_acc = model.evaluate(ds_test)\n",
        "print(\"Validation Accuracy:\", val_acc)"
      ]
    },
    {
      "cell_type": "code",
      "source": [
        "from transformers import ViTConfig, ViTModel\n",
        "\n",
        "# Initializing a ViT vit-base-patch16-224 style configuration\n",
        "configuration = ViTConfig()\n",
        "\n",
        "# Initializing a model (with random weights) from the vit-base-patch16-224 style configuration\n",
        "model = ViTModel(configuration)\n",
        "\n",
        "# Accessing the model configuration\n",
        "configuration = model.config"
      ],
      "metadata": {
        "id": "bu1E_OUeIPVl"
      },
      "execution_count": null,
      "outputs": []
    },
    {
      "cell_type": "code",
      "source": [
        "print(configuration)"
      ],
      "metadata": {
        "colab": {
          "base_uri": "https://localhost:8080/"
        },
        "id": "2L-9t3GiLju2",
        "outputId": "555c3e6b-33d9-4ad9-9eae-dc9a26cf58e6"
      },
      "execution_count": null,
      "outputs": [
        {
          "output_type": "stream",
          "name": "stdout",
          "text": [
            "ViTConfig {\n",
            "  \"attention_probs_dropout_prob\": 0.0,\n",
            "  \"encoder_stride\": 16,\n",
            "  \"hidden_act\": \"gelu\",\n",
            "  \"hidden_dropout_prob\": 0.0,\n",
            "  \"hidden_size\": 768,\n",
            "  \"image_size\": 224,\n",
            "  \"initializer_range\": 0.02,\n",
            "  \"intermediate_size\": 3072,\n",
            "  \"layer_norm_eps\": 1e-12,\n",
            "  \"model_type\": \"vit\",\n",
            "  \"num_attention_heads\": 12,\n",
            "  \"num_channels\": 3,\n",
            "  \"num_hidden_layers\": 12,\n",
            "  \"patch_size\": 16,\n",
            "  \"qkv_bias\": true,\n",
            "  \"transformers_version\": \"4.40.0\"\n",
            "}\n",
            "\n"
          ]
        }
      ]
    },
    {
      "cell_type": "markdown",
      "source": [
        "# **ViT (Visual Transformer)**"
      ],
      "metadata": {
        "id": "NUnFUhK9IQpU"
      }
    },
    {
      "cell_type": "code",
      "source": [
        "import os\n",
        "import torch\n",
        "import torchvision\n",
        "import torch.nn as nn\n",
        "import torch.optim as optim\n",
        "from torchvision import datasets, transforms\n",
        "from torch.utils.data import DataLoader\n",
        "from transformers import AutoImageProcessor, ViTForImageClassification\n",
        "\n",
        "device = torch.device(\"cuda\" if torch.cuda.is_available() else \"cpu\")\n",
        "\n",
        "train_folder_path = '/content/gdrive/MyDrive/ECG/Train'\n",
        "test_folder_path = '/content/gdrive/MyDrive/ECG/Test'\n",
        "\n",
        "transform = transforms.Compose([\n",
        "    transforms.Resize((224, 224)),\n",
        "    transforms.ToTensor(),\n",
        "])\n",
        "\n",
        "class_names = ['SR', 'AF']\n",
        "\n",
        "# Load datasets\n",
        "train_dataset = datasets.ImageFolder(train_folder_path, transform=transform)\n",
        "train_dataset.class_to_idx = {class_name: idx for idx, class_name in enumerate(class_names)}\n",
        "\n",
        "test_dataset = datasets.ImageFolder(test_folder_path, transform=transform)\n",
        "test_dataset.class_to_idx = {class_name: idx for idx, class_name in enumerate(class_names)}\n",
        "train_loader = DataLoader(train_dataset, batch_size=32, shuffle=True)\n",
        "test_loader = DataLoader(test_dataset, batch_size=32, shuffle=False)\n",
        "\n",
        "# Load the ViT model and image processor\n",
        "image_processor = AutoImageProcessor.from_pretrained(\"google/vit-base-patch16-224\")\n",
        "model = ViTForImageClassification.from_pretrained(\"google/vit-base-patch16-224\")\n",
        "\n",
        "# Freeze the pre-trained model parameters\n",
        "for param in model.parameters():\n",
        "    param.requires_grad = False\n",
        "\n",
        "# Modify the classification head for the number of classes in the dataset\n",
        "model.classifier = nn.Linear(model.config.hidden_size, len(train_dataset.classes))\n",
        "model = model.to(device)\n",
        "\n",
        "criterion = nn.CrossEntropyLoss()\n",
        "optimizer = optim.Adam(model.parameters(), lr=1e-4)\n",
        "\n",
        "# Training loop\n",
        "num_epochs = 20\n",
        "for epoch in range(num_epochs):\n",
        "    model.train()\n",
        "    running_loss = 0.0\n",
        "    correct = 0\n",
        "    total = 0\n",
        "\n",
        "    for inputs, labels in train_loader:\n",
        "        inputs, labels = inputs.to(device), labels.to(device)\n",
        "\n",
        "        optimizer.zero_grad()\n",
        "\n",
        "        with torch.set_grad_enabled(True):\n",
        "            outputs = model(inputs)\n",
        "            loss = criterion(outputs.logits, labels)\n",
        "            _, predicted = torch.max(outputs.logits, 1)\n",
        "            correct += (predicted == labels).sum().item()\n",
        "            total += labels.size(0)\n",
        "\n",
        "            loss.backward()\n",
        "            optimizer.step()\n",
        "\n",
        "            running_loss += loss.item() * inputs.size(0)\n",
        "\n",
        "    train_loss = running_loss / len(train_loader.dataset)\n",
        "    train_accuracy = correct / total\n",
        "\n",
        "    # Validation\n",
        "    model.eval()\n",
        "    correct = 0\n",
        "    total = 0\n",
        "\n",
        "    with torch.no_grad():\n",
        "        for inputs, labels in test_loader:\n",
        "            inputs, labels = inputs.to(device), labels.to(device)\n",
        "            outputs = model(inputs)\n",
        "            _, predicted = torch.max(outputs.logits, 1)\n",
        "            correct += (predicted == labels).sum().item()\n",
        "            total += labels.size(0)\n",
        "\n",
        "    test_accuracy = correct / total\n",
        "\n",
        "    print(f\"Epoch {epoch+1}/{num_epochs}, Train Loss: {train_loss:.4f}, Train Accuracy: {train_accuracy:.4f}, Test Accuracy: {test_accuracy:.4f}\")"
      ],
      "metadata": {
        "colab": {
          "base_uri": "https://localhost:8080/"
        },
        "id": "TvE6TDN4lxzj",
        "outputId": "2ec8ab40-247e-46c6-a453-ada0fc7f5ccd"
      },
      "execution_count": null,
      "outputs": [
        {
          "output_type": "stream",
          "name": "stdout",
          "text": [
            "Epoch 1/20, Train Loss: 0.6661, Train Accuracy: 0.6128, Test Accuracy: 0.7061\n",
            "Epoch 2/20, Train Loss: 0.6042, Train Accuracy: 0.7198, Test Accuracy: 0.6852\n",
            "Epoch 3/20, Train Loss: 0.5663, Train Accuracy: 0.7361, Test Accuracy: 0.7549\n",
            "Epoch 4/20, Train Loss: 0.5326, Train Accuracy: 0.7745, Test Accuracy: 0.7827\n",
            "Epoch 5/20, Train Loss: 0.5087, Train Accuracy: 0.7780, Test Accuracy: 0.7827\n",
            "Epoch 6/20, Train Loss: 0.4894, Train Accuracy: 0.7947, Test Accuracy: 0.7813\n",
            "Epoch 7/20, Train Loss: 0.4739, Train Accuracy: 0.7982, Test Accuracy: 0.7967\n",
            "Epoch 8/20, Train Loss: 0.4605, Train Accuracy: 0.8041, Test Accuracy: 0.7841\n",
            "Epoch 9/20, Train Loss: 0.4531, Train Accuracy: 0.8069, Test Accuracy: 0.7939\n",
            "Epoch 10/20, Train Loss: 0.4415, Train Accuracy: 0.8135, Test Accuracy: 0.8022\n",
            "Epoch 11/20, Train Loss: 0.4329, Train Accuracy: 0.8121, Test Accuracy: 0.7939\n",
            "Epoch 12/20, Train Loss: 0.4291, Train Accuracy: 0.8149, Test Accuracy: 0.7994\n",
            "Epoch 13/20, Train Loss: 0.4218, Train Accuracy: 0.8167, Test Accuracy: 0.8022\n",
            "Epoch 14/20, Train Loss: 0.4170, Train Accuracy: 0.8160, Test Accuracy: 0.7953\n",
            "Epoch 15/20, Train Loss: 0.4130, Train Accuracy: 0.8226, Test Accuracy: 0.8092\n",
            "Epoch 16/20, Train Loss: 0.4069, Train Accuracy: 0.8233, Test Accuracy: 0.8050\n",
            "Epoch 17/20, Train Loss: 0.4022, Train Accuracy: 0.8247, Test Accuracy: 0.7994\n",
            "Epoch 18/20, Train Loss: 0.3995, Train Accuracy: 0.8250, Test Accuracy: 0.8120\n",
            "Epoch 19/20, Train Loss: 0.3952, Train Accuracy: 0.8278, Test Accuracy: 0.8036\n",
            "Epoch 20/20, Train Loss: 0.3919, Train Accuracy: 0.8268, Test Accuracy: 0.8148\n"
          ]
        }
      ]
    },
    {
      "cell_type": "markdown",
      "metadata": {
        "id": "rc6vTfvblwEH"
      },
      "source": [
        "# ***ARRAY FORM OF DATA***"
      ]
    },
    {
      "cell_type": "code",
      "execution_count": null,
      "metadata": {
        "id": "bRzEkDmml5An"
      },
      "outputs": [],
      "source": [
        "import numpy as np\n",
        "# Load the data from Google Drive\n",
        "y = np.load('/content/gdrive/MyDrive/arr2D_AF&SR_label.npy')\n",
        "X = np.load('/content/gdrive/MyDrive/items_AF&SR.npy')"
      ]
    },
    {
      "cell_type": "code",
      "execution_count": null,
      "metadata": {
        "colab": {
          "base_uri": "https://localhost:8080/"
        },
        "id": "VF4kC3vfSKzG",
        "outputId": "b593c113-2304-4faf-d0d6-95cd981c06aa"
      },
      "outputs": [
        {
          "output_type": "stream",
          "name": "stdout",
          "text": [
            "(3587, 1000, 2)\n"
          ]
        }
      ],
      "source": [
        "import numpy as np\n",
        "\n",
        "# Assuming arr is your (6428, 5000, 12) shaped array\n",
        "arr = X\n",
        "# Indices to remove from the third dimension\n",
        "indices_to_remove = [2]  # 1st, 3rd, 7th, 8th positions\n",
        "\n",
        "# Remove the specified positions from the third dimension\n",
        "arr = np.delete(arr, indices_to_remove, axis=2)\n",
        "\n",
        "# Now, the shape of arr will be (6428, 5000, 8)\n",
        "print(arr.shape)"
      ]
    },
    {
      "cell_type": "code",
      "execution_count": null,
      "metadata": {
        "colab": {
          "base_uri": "https://localhost:8080/"
        },
        "id": "pGbhjpl9ZT6w",
        "outputId": "a8ffc3d8-905c-4b4a-a8d6-0b18c5fe83b7"
      },
      "outputs": [
        {
          "output_type": "execute_result",
          "data": {
            "text/plain": [
              "3587"
            ]
          },
          "metadata": {},
          "execution_count": 11
        }
      ],
      "source": [
        "#X = np.concatenate((s, a))\n",
        "len(X)"
      ]
    },
    {
      "cell_type": "code",
      "execution_count": null,
      "metadata": {
        "colab": {
          "base_uri": "https://localhost:8080/"
        },
        "id": "60Enw7b7ZZDD",
        "outputId": "e51b6be4-1746-4e36-b3d8-7b7ddf5dd0af"
      },
      "outputs": [
        {
          "output_type": "execute_result",
          "data": {
            "text/plain": [
              "3587"
            ]
          },
          "metadata": {},
          "execution_count": 12
        }
      ],
      "source": [
        "#y = np.concatenate((sl, al))\n",
        "len(y)"
      ]
    },
    {
      "cell_type": "code",
      "execution_count": null,
      "metadata": {
        "colab": {
          "base_uri": "https://localhost:8080/"
        },
        "id": "gIqrhnW6mRF_",
        "outputId": "1d81568a-bbc6-4e5c-a924-bedbf1861eb4"
      },
      "outputs": [
        {
          "output_type": "stream",
          "name": "stdout",
          "text": [
            "(3587, 1000, 3)\n",
            "[[[ 0.135 -0.125 -0.08 ]\n",
            "  [ 0.135 -0.125 -0.08 ]\n",
            "  [ 0.135 -0.125 -0.08 ]\n",
            "  ...\n",
            "  [-0.125 -0.066 -0.07 ]\n",
            "  [-0.126 -0.063 -0.07 ]\n",
            "  [-0.124 -0.06  -0.07 ]]\n",
            "\n",
            " [[-0.13  -0.045 -0.03 ]\n",
            "  [-0.13  -0.045 -0.03 ]\n",
            "  [-0.13  -0.045 -0.03 ]\n",
            "  ...\n",
            "  [ 0.003  0.027 -0.02 ]\n",
            "  [ 0.005  0.025 -0.018]\n",
            "  [ 0.005  0.024 -0.015]]\n",
            "\n",
            " [[-0.47  -0.43  -0.72 ]\n",
            "  [-0.47  -0.43  -0.72 ]\n",
            "  [-0.47  -0.43  -0.72 ]\n",
            "  ...\n",
            "  [-0.064  0.111  0.471]\n",
            "  [-0.075  0.11   0.467]\n",
            "  [-0.081  0.11   0.458]]\n",
            "\n",
            " ...\n",
            "\n",
            " [[ 0.025 -0.065  0.06 ]\n",
            "  [ 0.025 -0.065  0.06 ]\n",
            "  [ 0.025 -0.065  0.06 ]\n",
            "  ...\n",
            "  [-0.012 -0.035 -0.018]\n",
            "  [-0.018 -0.006 -0.016]\n",
            "  [-0.02   0.013 -0.021]]\n",
            "\n",
            " [[ 0.15   0.15   0.02 ]\n",
            "  [ 0.15   0.15   0.02 ]\n",
            "  [ 0.15   0.15   0.02 ]\n",
            "  ...\n",
            "  [ 0.121  0.05   0.063]\n",
            "  [ 0.146  0.049  0.067]\n",
            "  [ 0.166  0.052  0.071]]\n",
            "\n",
            " [[ 0.015  0.095 -0.005]\n",
            "  [ 0.015  0.095 -0.005]\n",
            "  [ 0.015  0.095 -0.005]\n",
            "  ...\n",
            "  [-0.102  0.113 -0.13 ]\n",
            "  [-0.099  0.124 -0.129]\n",
            "  [-0.1    0.125 -0.124]]]\n"
          ]
        }
      ],
      "source": [
        "print(X.shape)\n",
        "print(X)"
      ]
    },
    {
      "cell_type": "code",
      "execution_count": null,
      "metadata": {
        "colab": {
          "base_uri": "https://localhost:8080/"
        },
        "id": "TxP2MV5imaEH",
        "outputId": "1969b52e-32ca-4d9e-d5ac-74125de6d94c"
      },
      "outputs": [
        {
          "output_type": "stream",
          "name": "stdout",
          "text": [
            "(3587, 1)\n",
            "[[1]\n",
            " [0]\n",
            " [0]\n",
            " ...\n",
            " [0]\n",
            " [1]\n",
            " [0]]\n"
          ]
        }
      ],
      "source": [
        "print(y.shape)\n",
        "print(y)"
      ]
    },
    {
      "cell_type": "code",
      "execution_count": null,
      "metadata": {
        "colab": {
          "base_uri": "https://localhost:8080/"
        },
        "id": "RwwPMxwmq5Y6",
        "outputId": "e7ad4970-e981-47ff-e88e-b4e131f53d19"
      },
      "outputs": [
        {
          "output_type": "stream",
          "name": "stdout",
          "text": [
            "[[[ 0.80705828 -0.4588596  -0.25228113]\n",
            "  [ 0.80705828 -0.4588596  -0.25228113]\n",
            "  [ 0.80705828 -0.4588596  -0.25228113]\n",
            "  ...\n",
            "  [-0.71186622 -0.24757386 -0.22215566]\n",
            "  [-0.71770824 -0.23683052 -0.22215566]\n",
            "  [-0.7060242  -0.22608717 -0.22215566]]\n",
            "\n",
            " [[-0.7410763  -0.17237046 -0.10165378]\n",
            "  [-0.7410763  -0.17237046 -0.10165378]\n",
            "  [-0.7410763  -0.17237046 -0.10165378]\n",
            "  ...\n",
            "  [ 0.035912    0.08546976 -0.07152831]\n",
            "  [ 0.04759603  0.07830753 -0.06550321]\n",
            "  [ 0.04759603  0.07472642 -0.05646557]]\n",
            "\n",
            " [[-2.72736219 -1.55109943 -2.18031125]\n",
            "  [-2.72736219 -1.55109943 -2.18031125]\n",
            "  [-2.72736219 -1.55109943 -2.18031125]\n",
            "  ...\n",
            "  [-0.35550316  0.38628336  1.4076323 ]\n",
            "  [-0.41976535  0.38270224  1.39558212]\n",
            "  [-0.45481746  0.38270224  1.36846919]]\n",
            "\n",
            " ...\n",
            "\n",
            " [[ 0.16443638 -0.24399274  0.16947546]\n",
            "  [ 0.16443638 -0.24399274  0.16947546]\n",
            "  [ 0.16443638 -0.24399274  0.16947546]\n",
            "  ...\n",
            "  [-0.05171826 -0.13655932 -0.06550321]\n",
            "  [-0.08677037 -0.03270701 -0.05947812]\n",
            "  [-0.0984544   0.03533416 -0.07454085]]\n",
            "\n",
            " [[ 0.89468854  0.52594681  0.04897358]\n",
            "  [ 0.89468854  0.52594681  0.04897358]\n",
            "  [ 0.89468854  0.52594681  0.04897358]\n",
            "  ...\n",
            "  [ 0.72527004  0.16783539  0.1785131 ]\n",
            "  [ 0.87132047  0.16425428  0.19056329]\n",
            "  [ 0.98816082  0.17499762  0.20261348]]\n",
            "\n",
            " [[ 0.10601621  0.32898553 -0.0263401 ]\n",
            "  [ 0.10601621  0.32898553 -0.0263401 ]\n",
            "  [ 0.10601621  0.32898553 -0.0263401 ]\n",
            "  ...\n",
            "  [-0.57749982  0.39344559 -0.40290848]\n",
            "  [-0.55997377  0.43283784 -0.39989594]\n",
            "  [-0.56581579  0.43641896 -0.3848332 ]]]\n"
          ]
        }
      ],
      "source": [
        "# Preprocessing\n",
        "import numpy as np\n",
        "from sklearn.preprocessing import StandardScaler\n",
        "scaler = StandardScaler()\n",
        "X_scaled = scaler.fit_transform(X.reshape(-1, X.shape[-1])).reshape(X.shape)\n",
        "\n",
        "print(X_scaled)"
      ]
    },
    {
      "cell_type": "markdown",
      "metadata": {
        "id": "h21zLaCSrDTK"
      },
      "source": [
        "# **Splitting the dataset** [taking every 5th index set as testing set]"
      ]
    },
    {
      "cell_type": "code",
      "execution_count": null,
      "metadata": {
        "colab": {
          "base_uri": "https://localhost:8080/"
        },
        "id": "MI32x7ygrF4w",
        "outputId": "0839728b-468b-40f6-a65b-d61af6cf1d15"
      },
      "outputs": [
        {
          "output_type": "stream",
          "name": "stdout",
          "text": [
            "X_train shape: (2869, 1000, 3)\n",
            "Y_train shape: (2869, 1)\n",
            "X_test shape: (718, 1000, 3)\n",
            "Y_test shape: (718, 1)\n"
          ]
        }
      ],
      "source": [
        "import numpy as np\n",
        "\n",
        "# Assuming X and Y are your arrays\n",
        "X_s = X_scaled\n",
        "Y_s = y\n",
        "# Generate indices for splitting\n",
        "indices = np.arange(len(Y_s))\n",
        "\n",
        "# Split the indices into train and test sets\n",
        "test_indices = indices[::5]  # Every fifth index\n",
        "train_indices = np.setdiff1d(indices, test_indices)\n",
        "\n",
        "# Split X and Y using the generated indices\n",
        "X_tr = X_s[train_indices]\n",
        "Y_tr = Y_s[train_indices]\n",
        "\n",
        "X_ts = X_s[test_indices]\n",
        "Y_ts = Y_s[test_indices]\n",
        "\n",
        "# Check the shapes\n",
        "print(\"X_train shape:\", X_tr.shape)\n",
        "print(\"Y_train shape:\", Y_tr.shape)\n",
        "print(\"X_test shape:\", X_ts.shape)\n",
        "print(\"Y_test shape:\", Y_ts.shape)"
      ]
    },
    {
      "cell_type": "markdown",
      "metadata": {
        "id": "GgRPkzcVsXXp"
      },
      "source": [
        "## **CNN-LSTM **"
      ]
    },
    {
      "cell_type": "markdown",
      "metadata": {
        "id": "IxXMPfCprzux"
      },
      "source": []
    },
    {
      "cell_type": "code",
      "execution_count": null,
      "metadata": {
        "colab": {
          "base_uri": "https://localhost:8080/"
        },
        "id": "D9eExxdorzFx",
        "outputId": "5ba242a0-f651-44e0-ea21-9048780a2ffa"
      },
      "outputs": [
        {
          "output_type": "stream",
          "name": "stdout",
          "text": [
            "Model: \"sequential_4\"\n",
            "_________________________________________________________________\n",
            " Layer (type)                Output Shape              Param #   \n",
            "=================================================================\n",
            " conv1d (Conv1D)             (None, 998, 64)           640       \n",
            "                                                                 \n",
            " max_pooling1d (MaxPooling1  (None, 499, 64)           0         \n",
            " D)                                                              \n",
            "                                                                 \n",
            " conv1d_1 (Conv1D)           (None, 497, 128)          24704     \n",
            "                                                                 \n",
            " max_pooling1d_1 (MaxPoolin  (None, 248, 128)          0         \n",
            " g1D)                                                            \n",
            "                                                                 \n",
            " lstm (LSTM)                 (None, 248, 64)           49408     \n",
            "                                                                 \n",
            " lstm_1 (LSTM)               (None, 32)                12416     \n",
            "                                                                 \n",
            " dense_8 (Dense)             (None, 2)                 66        \n",
            "                                                                 \n",
            "=================================================================\n",
            "Total params: 87234 (340.76 KB)\n",
            "Trainable params: 87234 (340.76 KB)\n",
            "Non-trainable params: 0 (0.00 Byte)\n",
            "_________________________________________________________________\n",
            "Epoch 1/80\n",
            "41/41 [==============================] - 6s 52ms/step - loss: 0.6827 - accuracy: 0.5740 - val_loss: 0.6553 - val_accuracy: 0.5993\n",
            "Epoch 2/80\n",
            "41/41 [==============================] - 1s 28ms/step - loss: 0.6658 - accuracy: 0.5957 - val_loss: 0.6531 - val_accuracy: 0.5958\n",
            "Epoch 3/80\n",
            "41/41 [==============================] - 1s 29ms/step - loss: 0.6466 - accuracy: 0.6328 - val_loss: 0.6190 - val_accuracy: 0.6655\n",
            "Epoch 4/80\n",
            "41/41 [==============================] - 1s 25ms/step - loss: 0.6197 - accuracy: 0.6538 - val_loss: 0.6358 - val_accuracy: 0.6446\n",
            "Epoch 5/80\n",
            "41/41 [==============================] - 1s 23ms/step - loss: 0.6096 - accuracy: 0.6774 - val_loss: 0.6164 - val_accuracy: 0.6760\n",
            "Epoch 6/80\n",
            "41/41 [==============================] - 1s 23ms/step - loss: 0.6033 - accuracy: 0.6789 - val_loss: 0.6880 - val_accuracy: 0.5645\n",
            "Epoch 7/80\n",
            "41/41 [==============================] - 1s 23ms/step - loss: 0.6094 - accuracy: 0.6596 - val_loss: 0.5890 - val_accuracy: 0.6899\n",
            "Epoch 8/80\n",
            "41/41 [==============================] - 1s 23ms/step - loss: 0.5295 - accuracy: 0.7607 - val_loss: 0.5491 - val_accuracy: 0.7596\n",
            "Epoch 9/80\n",
            "41/41 [==============================] - 1s 23ms/step - loss: 0.4629 - accuracy: 0.7998 - val_loss: 0.6853 - val_accuracy: 0.6655\n",
            "Epoch 10/80\n",
            "41/41 [==============================] - 1s 23ms/step - loss: 0.4901 - accuracy: 0.7974 - val_loss: 0.4133 - val_accuracy: 0.8362\n",
            "Epoch 11/80\n",
            "41/41 [==============================] - 1s 23ms/step - loss: 0.4776 - accuracy: 0.7959 - val_loss: 0.6359 - val_accuracy: 0.6864\n",
            "Epoch 12/80\n",
            "41/41 [==============================] - 1s 22ms/step - loss: 0.6728 - accuracy: 0.5724 - val_loss: 0.6703 - val_accuracy: 0.6063\n",
            "Epoch 13/80\n",
            "41/41 [==============================] - 1s 22ms/step - loss: 0.6779 - accuracy: 0.5740 - val_loss: 0.6889 - val_accuracy: 0.5540\n",
            "Epoch 14/80\n",
            "41/41 [==============================] - 1s 23ms/step - loss: 0.6835 - accuracy: 0.5689 - val_loss: 0.6764 - val_accuracy: 0.5854\n",
            "Epoch 15/80\n",
            "41/41 [==============================] - 1s 29ms/step - loss: 0.6670 - accuracy: 0.5957 - val_loss: 0.6812 - val_accuracy: 0.5993\n",
            "Epoch 16/80\n",
            "41/41 [==============================] - 1s 29ms/step - loss: 0.6554 - accuracy: 0.6301 - val_loss: 0.6126 - val_accuracy: 0.6934\n",
            "Epoch 17/80\n",
            "41/41 [==============================] - 1s 25ms/step - loss: 0.6169 - accuracy: 0.6723 - val_loss: 0.6949 - val_accuracy: 0.5401\n",
            "Epoch 18/80\n",
            "41/41 [==============================] - 1s 23ms/step - loss: 0.6006 - accuracy: 0.6921 - val_loss: 0.5757 - val_accuracy: 0.7213\n",
            "Epoch 19/80\n",
            "41/41 [==============================] - 1s 23ms/step - loss: 0.6052 - accuracy: 0.6867 - val_loss: 0.5655 - val_accuracy: 0.7143\n",
            "Epoch 20/80\n",
            "41/41 [==============================] - 1s 23ms/step - loss: 0.5856 - accuracy: 0.7088 - val_loss: 0.5496 - val_accuracy: 0.7456\n",
            "Epoch 21/80\n",
            "41/41 [==============================] - 1s 23ms/step - loss: 0.5402 - accuracy: 0.7459 - val_loss: 0.5385 - val_accuracy: 0.7387\n",
            "Epoch 22/80\n",
            "41/41 [==============================] - 1s 23ms/step - loss: 0.5218 - accuracy: 0.7591 - val_loss: 0.5718 - val_accuracy: 0.7282\n",
            "Epoch 23/80\n",
            "41/41 [==============================] - 1s 23ms/step - loss: 0.5340 - accuracy: 0.7444 - val_loss: 0.4994 - val_accuracy: 0.7631\n",
            "Epoch 24/80\n",
            "41/41 [==============================] - 1s 23ms/step - loss: 0.4583 - accuracy: 0.8079 - val_loss: 0.4784 - val_accuracy: 0.7735\n",
            "Epoch 25/80\n",
            "41/41 [==============================] - 1s 23ms/step - loss: 0.4314 - accuracy: 0.8071 - val_loss: 0.4654 - val_accuracy: 0.7909\n",
            "Epoch 26/80\n",
            "41/41 [==============================] - 1s 23ms/step - loss: 0.3758 - accuracy: 0.8466 - val_loss: 0.3442 - val_accuracy: 0.8606\n",
            "Epoch 27/80\n",
            "41/41 [==============================] - 1s 23ms/step - loss: 0.3252 - accuracy: 0.8683 - val_loss: 0.3574 - val_accuracy: 0.8432\n",
            "Epoch 28/80\n",
            "41/41 [==============================] - 1s 27ms/step - loss: 0.3541 - accuracy: 0.8513 - val_loss: 0.4146 - val_accuracy: 0.8293\n",
            "Epoch 29/80\n",
            "41/41 [==============================] - 1s 28ms/step - loss: 0.3517 - accuracy: 0.8544 - val_loss: 0.3654 - val_accuracy: 0.8397\n",
            "Epoch 30/80\n",
            "41/41 [==============================] - 1s 27ms/step - loss: 0.3272 - accuracy: 0.8699 - val_loss: 0.2947 - val_accuracy: 0.8850\n",
            "Epoch 31/80\n",
            "41/41 [==============================] - 1s 23ms/step - loss: 0.2879 - accuracy: 0.8846 - val_loss: 0.3429 - val_accuracy: 0.8502\n",
            "Epoch 32/80\n",
            "41/41 [==============================] - 1s 23ms/step - loss: 0.2881 - accuracy: 0.8815 - val_loss: 0.2362 - val_accuracy: 0.9164\n",
            "Epoch 33/80\n",
            "41/41 [==============================] - 1s 23ms/step - loss: 0.2604 - accuracy: 0.8947 - val_loss: 0.2202 - val_accuracy: 0.9094\n",
            "Epoch 34/80\n",
            "41/41 [==============================] - 1s 23ms/step - loss: 0.2414 - accuracy: 0.9055 - val_loss: 0.3133 - val_accuracy: 0.8885\n",
            "Epoch 35/80\n",
            "41/41 [==============================] - 1s 23ms/step - loss: 0.2458 - accuracy: 0.9043 - val_loss: 0.1984 - val_accuracy: 0.9268\n",
            "Epoch 36/80\n",
            "41/41 [==============================] - 1s 22ms/step - loss: 0.2058 - accuracy: 0.9218 - val_loss: 0.2136 - val_accuracy: 0.9233\n",
            "Epoch 37/80\n",
            "41/41 [==============================] - 1s 23ms/step - loss: 0.2098 - accuracy: 0.9222 - val_loss: 0.1980 - val_accuracy: 0.9199\n",
            "Epoch 38/80\n",
            "41/41 [==============================] - 1s 23ms/step - loss: 0.1830 - accuracy: 0.9303 - val_loss: 0.2116 - val_accuracy: 0.9233\n",
            "Epoch 39/80\n",
            "41/41 [==============================] - 1s 23ms/step - loss: 0.1818 - accuracy: 0.9338 - val_loss: 0.2004 - val_accuracy: 0.9199\n",
            "Epoch 40/80\n",
            "41/41 [==============================] - 1s 23ms/step - loss: 0.2064 - accuracy: 0.9179 - val_loss: 0.3825 - val_accuracy: 0.8537\n",
            "Epoch 41/80\n",
            "41/41 [==============================] - 1s 26ms/step - loss: 0.2990 - accuracy: 0.8734 - val_loss: 0.2550 - val_accuracy: 0.8920\n",
            "Epoch 42/80\n",
            "41/41 [==============================] - 1s 28ms/step - loss: 0.2323 - accuracy: 0.9024 - val_loss: 0.2268 - val_accuracy: 0.9059\n",
            "Epoch 43/80\n",
            "41/41 [==============================] - 1s 28ms/step - loss: 0.1892 - accuracy: 0.9272 - val_loss: 0.2126 - val_accuracy: 0.9164\n",
            "Epoch 44/80\n",
            "41/41 [==============================] - 1s 23ms/step - loss: 0.1737 - accuracy: 0.9338 - val_loss: 0.2262 - val_accuracy: 0.9164\n",
            "Epoch 45/80\n",
            "41/41 [==============================] - 1s 23ms/step - loss: 0.1626 - accuracy: 0.9369 - val_loss: 0.2140 - val_accuracy: 0.9268\n",
            "Epoch 46/80\n",
            "41/41 [==============================] - 1s 23ms/step - loss: 0.1619 - accuracy: 0.9384 - val_loss: 0.2138 - val_accuracy: 0.9059\n",
            "Epoch 47/80\n",
            "41/41 [==============================] - 1s 22ms/step - loss: 0.1422 - accuracy: 0.9446 - val_loss: 0.2004 - val_accuracy: 0.9268\n",
            "Epoch 48/80\n",
            "41/41 [==============================] - 1s 23ms/step - loss: 0.1328 - accuracy: 0.9512 - val_loss: 0.2318 - val_accuracy: 0.9129\n",
            "Epoch 49/80\n",
            "41/41 [==============================] - 1s 23ms/step - loss: 0.1351 - accuracy: 0.9500 - val_loss: 0.2203 - val_accuracy: 0.9199\n",
            "Epoch 50/80\n",
            "41/41 [==============================] - 1s 23ms/step - loss: 0.1368 - accuracy: 0.9489 - val_loss: 0.2287 - val_accuracy: 0.9233\n",
            "Epoch 51/80\n",
            "41/41 [==============================] - 1s 22ms/step - loss: 0.1340 - accuracy: 0.9508 - val_loss: 0.1928 - val_accuracy: 0.9338\n",
            "Epoch 52/80\n",
            "41/41 [==============================] - 1s 23ms/step - loss: 0.1229 - accuracy: 0.9531 - val_loss: 0.2243 - val_accuracy: 0.9164\n",
            "Epoch 53/80\n",
            "41/41 [==============================] - 1s 23ms/step - loss: 0.1117 - accuracy: 0.9574 - val_loss: 0.2187 - val_accuracy: 0.9164\n",
            "Epoch 54/80\n",
            "41/41 [==============================] - 1s 25ms/step - loss: 0.1298 - accuracy: 0.9504 - val_loss: 0.2035 - val_accuracy: 0.9233\n",
            "Epoch 55/80\n",
            "41/41 [==============================] - 1s 28ms/step - loss: 0.1235 - accuracy: 0.9535 - val_loss: 0.2092 - val_accuracy: 0.9094\n",
            "Epoch 56/80\n",
            "41/41 [==============================] - 1s 28ms/step - loss: 0.1178 - accuracy: 0.9531 - val_loss: 0.2447 - val_accuracy: 0.9164\n",
            "Epoch 57/80\n",
            "41/41 [==============================] - 1s 25ms/step - loss: 0.1313 - accuracy: 0.9504 - val_loss: 0.1887 - val_accuracy: 0.9164\n",
            "Epoch 58/80\n",
            "41/41 [==============================] - 1s 22ms/step - loss: 0.1074 - accuracy: 0.9620 - val_loss: 0.1807 - val_accuracy: 0.9338\n",
            "Epoch 59/80\n",
            "41/41 [==============================] - 1s 23ms/step - loss: 0.0981 - accuracy: 0.9648 - val_loss: 0.2256 - val_accuracy: 0.9199\n",
            "Epoch 60/80\n",
            "41/41 [==============================] - 1s 23ms/step - loss: 0.0946 - accuracy: 0.9640 - val_loss: 0.2283 - val_accuracy: 0.9233\n",
            "Epoch 61/80\n",
            "41/41 [==============================] - 1s 23ms/step - loss: 0.1059 - accuracy: 0.9597 - val_loss: 0.2037 - val_accuracy: 0.9199\n",
            "Epoch 62/80\n",
            "41/41 [==============================] - 1s 23ms/step - loss: 0.1187 - accuracy: 0.9582 - val_loss: 0.2166 - val_accuracy: 0.9094\n",
            "Epoch 63/80\n",
            "41/41 [==============================] - 1s 23ms/step - loss: 0.1033 - accuracy: 0.9628 - val_loss: 0.1830 - val_accuracy: 0.9303\n",
            "Epoch 64/80\n",
            "41/41 [==============================] - 1s 22ms/step - loss: 0.2298 - accuracy: 0.9175 - val_loss: 0.2508 - val_accuracy: 0.9024\n",
            "Epoch 65/80\n",
            "41/41 [==============================] - 1s 22ms/step - loss: 0.1897 - accuracy: 0.9272 - val_loss: 0.2051 - val_accuracy: 0.9233\n",
            "Epoch 66/80\n",
            "41/41 [==============================] - 1s 22ms/step - loss: 0.1360 - accuracy: 0.9520 - val_loss: 0.2106 - val_accuracy: 0.9233\n",
            "Epoch 67/80\n",
            "41/41 [==============================] - 1s 22ms/step - loss: 0.1045 - accuracy: 0.9620 - val_loss: 0.2093 - val_accuracy: 0.9199\n",
            "Epoch 68/80\n",
            "41/41 [==============================] - 1s 28ms/step - loss: 0.0865 - accuracy: 0.9717 - val_loss: 0.2382 - val_accuracy: 0.9094\n",
            "Epoch 69/80\n",
            "41/41 [==============================] - 1s 26ms/step - loss: 0.0943 - accuracy: 0.9663 - val_loss: 0.2506 - val_accuracy: 0.9129\n",
            "Epoch 70/80\n",
            "41/41 [==============================] - 1s 28ms/step - loss: 0.0829 - accuracy: 0.9741 - val_loss: 0.2564 - val_accuracy: 0.9164\n",
            "Epoch 71/80\n",
            "41/41 [==============================] - 1s 22ms/step - loss: 0.0742 - accuracy: 0.9725 - val_loss: 0.3137 - val_accuracy: 0.9024\n",
            "Epoch 72/80\n",
            "41/41 [==============================] - 1s 22ms/step - loss: 0.0718 - accuracy: 0.9741 - val_loss: 0.2498 - val_accuracy: 0.9024\n",
            "Epoch 73/80\n",
            "41/41 [==============================] - 1s 23ms/step - loss: 0.0771 - accuracy: 0.9733 - val_loss: 0.2866 - val_accuracy: 0.9164\n",
            "Epoch 74/80\n",
            "41/41 [==============================] - 1s 23ms/step - loss: 0.1405 - accuracy: 0.9493 - val_loss: 0.2308 - val_accuracy: 0.9164\n",
            "Epoch 75/80\n",
            "41/41 [==============================] - 1s 22ms/step - loss: 0.0824 - accuracy: 0.9710 - val_loss: 0.2616 - val_accuracy: 0.9129\n",
            "Epoch 76/80\n",
            "41/41 [==============================] - 1s 23ms/step - loss: 0.0650 - accuracy: 0.9768 - val_loss: 0.2310 - val_accuracy: 0.9199\n",
            "Epoch 77/80\n",
            "41/41 [==============================] - 1s 23ms/step - loss: 0.0576 - accuracy: 0.9818 - val_loss: 0.2503 - val_accuracy: 0.9199\n",
            "Epoch 78/80\n",
            "41/41 [==============================] - 1s 23ms/step - loss: 0.0627 - accuracy: 0.9791 - val_loss: 0.2382 - val_accuracy: 0.9303\n",
            "Epoch 79/80\n",
            "41/41 [==============================] - 1s 23ms/step - loss: 0.0720 - accuracy: 0.9775 - val_loss: 0.2216 - val_accuracy: 0.9338\n",
            "Epoch 80/80\n",
            "41/41 [==============================] - 1s 23ms/step - loss: 0.0669 - accuracy: 0.9818 - val_loss: 0.3032 - val_accuracy: 0.9164\n",
            "23/23 [==============================] - 0s 15ms/step - loss: 0.3282 - accuracy: 0.8942\n",
            "Test Loss: 0.3282417356967926\n",
            "Test Accuracy: 0.89415043592453\n"
          ]
        }
      ],
      "source": [
        "import numpy as np\n",
        "import tensorflow as tf\n",
        "from keras.models import Sequential\n",
        "from keras.layers import Conv1D, MaxPooling1D, LSTM, Dense, Flatten\n",
        "\n",
        "# Define model parameters\n",
        "num_classes = 2\n",
        "input_shape = (1000, 3)  # assuming 1000 time steps and 12 leads\n",
        "\n",
        "# Reshape the data to fit the CNN input shape\n",
        "X_train_cnn = X_tr.reshape((-1, input_shape[0], input_shape[1]))  # reshape without channel dimension\n",
        "X_test_cnn = X_ts.reshape((-1, input_shape[0], input_shape[1]))\n",
        "\n",
        "# Define CNN-LSTM model architecture\n",
        "model = Sequential([\n",
        "    Conv1D(64, kernel_size=3, activation='relu', input_shape=input_shape),\n",
        "    MaxPooling1D(pool_size=2),\n",
        "    Conv1D(128, kernel_size=3, activation='relu'),\n",
        "    MaxPooling1D(pool_size=2),\n",
        "    LSTM(64, return_sequences=True),\n",
        "    LSTM(32),\n",
        "    Dense(num_classes, activation='softmax')\n",
        "])\n",
        "\n",
        "# Compile the model\n",
        "model.compile(optimizer='adam',\n",
        "              loss='sparse_categorical_crossentropy',\n",
        "              metrics=['accuracy'])\n",
        "\n",
        "# Print model summary\n",
        "model.summary()\n",
        "\n",
        "# Train the model\n",
        "model.fit(X_train_cnn, Y_tr, epochs=80, batch_size=64, validation_split=0.1)\n",
        "\n",
        "# Evaluate the model on test data\n",
        "loss, accuracy = model.evaluate(X_ts, Y_ts)\n",
        "print(\"Test Loss:\", loss)\n",
        "print(\"Test Accuracy:\", accuracy)"
      ]
    },
    {
      "cell_type": "markdown",
      "metadata": {
        "id": "y1pH9znftzgS"
      },
      "source": [
        "# **CNN-Bi-LSTM **"
      ]
    },
    {
      "cell_type": "code",
      "execution_count": null,
      "metadata": {
        "colab": {
          "base_uri": "https://localhost:8080/"
        },
        "id": "x8DKGfoeuAnR",
        "outputId": "ca8db2cd-d014-43e4-d6d2-8b44fa38e8c4"
      },
      "outputs": [
        {
          "output_type": "stream",
          "name": "stdout",
          "text": [
            "Model: \"sequential_6\"\n",
            "_________________________________________________________________\n",
            " Layer (type)                Output Shape              Param #   \n",
            "=================================================================\n",
            " conv1d_4 (Conv1D)           (None, 998, 64)           640       \n",
            "                                                                 \n",
            " max_pooling1d_4 (MaxPoolin  (None, 499, 64)           0         \n",
            " g1D)                                                            \n",
            "                                                                 \n",
            " conv1d_5 (Conv1D)           (None, 497, 128)          24704     \n",
            "                                                                 \n",
            " max_pooling1d_5 (MaxPoolin  (None, 248, 128)          0         \n",
            " g1D)                                                            \n",
            "                                                                 \n",
            " bidirectional_2 (Bidirecti  (None, 248, 128)          98816     \n",
            " onal)                                                           \n",
            "                                                                 \n",
            " bidirectional_3 (Bidirecti  (None, 64)                41216     \n",
            " onal)                                                           \n",
            "                                                                 \n",
            " dense_10 (Dense)            (None, 2)                 130       \n",
            "                                                                 \n",
            "=================================================================\n",
            "Total params: 165506 (646.51 KB)\n",
            "Trainable params: 165506 (646.51 KB)\n",
            "Non-trainable params: 0 (0.00 Byte)\n",
            "_________________________________________________________________\n",
            "Epoch 1/100\n",
            "41/41 [==============================] - 10s 77ms/step - loss: 0.6838 - accuracy: 0.5593 - val_loss: 0.6511 - val_accuracy: 0.6063\n",
            "Epoch 2/100\n",
            "41/41 [==============================] - 2s 38ms/step - loss: 0.6519 - accuracy: 0.6270 - val_loss: 0.6278 - val_accuracy: 0.6481\n",
            "Epoch 3/100\n",
            "41/41 [==============================] - 2s 38ms/step - loss: 0.6204 - accuracy: 0.6631 - val_loss: 0.6137 - val_accuracy: 0.6655\n",
            "Epoch 4/100\n",
            "41/41 [==============================] - 2s 42ms/step - loss: 0.6062 - accuracy: 0.6813 - val_loss: 0.6088 - val_accuracy: 0.6760\n",
            "Epoch 5/100\n",
            "41/41 [==============================] - 2s 49ms/step - loss: 0.5926 - accuracy: 0.6944 - val_loss: 0.5775 - val_accuracy: 0.6899\n",
            "Epoch 6/100\n",
            "41/41 [==============================] - 2s 41ms/step - loss: 0.5771 - accuracy: 0.7111 - val_loss: 0.5583 - val_accuracy: 0.7073\n",
            "Epoch 7/100\n",
            "41/41 [==============================] - 2s 38ms/step - loss: 0.5317 - accuracy: 0.7448 - val_loss: 0.5393 - val_accuracy: 0.7352\n",
            "Epoch 8/100\n",
            "41/41 [==============================] - 2s 38ms/step - loss: 0.5294 - accuracy: 0.7432 - val_loss: 0.5884 - val_accuracy: 0.7282\n",
            "Epoch 9/100\n",
            "41/41 [==============================] - 2s 38ms/step - loss: 0.5710 - accuracy: 0.7091 - val_loss: 0.5586 - val_accuracy: 0.7178\n",
            "Epoch 10/100\n",
            "41/41 [==============================] - 2s 38ms/step - loss: 0.5357 - accuracy: 0.7463 - val_loss: 0.5088 - val_accuracy: 0.7770\n",
            "Epoch 11/100\n",
            "41/41 [==============================] - 2s 38ms/step - loss: 0.4434 - accuracy: 0.8005 - val_loss: 0.4122 - val_accuracy: 0.8432\n",
            "Epoch 12/100\n",
            "41/41 [==============================] - 2s 43ms/step - loss: 0.3731 - accuracy: 0.8455 - val_loss: 0.3865 - val_accuracy: 0.8641\n",
            "Epoch 13/100\n",
            "41/41 [==============================] - 2s 49ms/step - loss: 0.3906 - accuracy: 0.8393 - val_loss: 0.3783 - val_accuracy: 0.8537\n",
            "Epoch 14/100\n",
            "41/41 [==============================] - 2s 39ms/step - loss: 0.3607 - accuracy: 0.8563 - val_loss: 0.4692 - val_accuracy: 0.7666\n",
            "Epoch 15/100\n",
            "41/41 [==============================] - 2s 38ms/step - loss: 0.4122 - accuracy: 0.8083 - val_loss: 0.2659 - val_accuracy: 0.8920\n",
            "Epoch 16/100\n",
            "41/41 [==============================] - 2s 39ms/step - loss: 0.3422 - accuracy: 0.8582 - val_loss: 0.3366 - val_accuracy: 0.8711\n",
            "Epoch 17/100\n",
            "41/41 [==============================] - 2s 38ms/step - loss: 0.3264 - accuracy: 0.8761 - val_loss: 0.3607 - val_accuracy: 0.8711\n",
            "Epoch 18/100\n",
            "41/41 [==============================] - 2s 38ms/step - loss: 0.3096 - accuracy: 0.8796 - val_loss: 0.2738 - val_accuracy: 0.9059\n",
            "Epoch 19/100\n",
            "41/41 [==============================] - 2s 39ms/step - loss: 0.3682 - accuracy: 0.8412 - val_loss: 0.6674 - val_accuracy: 0.6341\n",
            "Epoch 20/100\n",
            "41/41 [==============================] - 2s 46ms/step - loss: 0.5180 - accuracy: 0.7475 - val_loss: 0.5087 - val_accuracy: 0.7317\n",
            "Epoch 21/100\n",
            "41/41 [==============================] - 2s 47ms/step - loss: 0.4324 - accuracy: 0.8044 - val_loss: 0.3977 - val_accuracy: 0.8153\n",
            "Epoch 22/100\n",
            "41/41 [==============================] - 2s 39ms/step - loss: 0.3579 - accuracy: 0.8555 - val_loss: 0.3584 - val_accuracy: 0.8432\n",
            "Epoch 23/100\n",
            "41/41 [==============================] - 2s 40ms/step - loss: 0.2881 - accuracy: 0.8888 - val_loss: 0.3226 - val_accuracy: 0.8711\n",
            "Epoch 24/100\n",
            "41/41 [==============================] - 2s 40ms/step - loss: 0.3541 - accuracy: 0.8532 - val_loss: 0.3823 - val_accuracy: 0.8293\n",
            "Epoch 25/100\n",
            "41/41 [==============================] - 2s 38ms/step - loss: 0.3587 - accuracy: 0.8358 - val_loss: 0.3771 - val_accuracy: 0.8084\n",
            "Epoch 26/100\n",
            "41/41 [==============================] - 2s 38ms/step - loss: 0.3155 - accuracy: 0.8672 - val_loss: 0.4081 - val_accuracy: 0.8293\n",
            "Epoch 27/100\n",
            "41/41 [==============================] - 2s 38ms/step - loss: 0.4026 - accuracy: 0.8238 - val_loss: 0.3392 - val_accuracy: 0.8571\n",
            "Epoch 28/100\n",
            "41/41 [==============================] - 2s 48ms/step - loss: 0.3302 - accuracy: 0.8505 - val_loss: 0.3305 - val_accuracy: 0.8362\n",
            "Epoch 29/100\n",
            "41/41 [==============================] - 2s 45ms/step - loss: 0.3043 - accuracy: 0.8699 - val_loss: 0.5239 - val_accuracy: 0.8258\n",
            "Epoch 30/100\n",
            "41/41 [==============================] - 2s 38ms/step - loss: 0.3296 - accuracy: 0.8586 - val_loss: 0.2802 - val_accuracy: 0.8746\n",
            "Epoch 31/100\n",
            "41/41 [==============================] - 2s 38ms/step - loss: 0.2654 - accuracy: 0.8854 - val_loss: 0.2947 - val_accuracy: 0.8711\n",
            "Epoch 32/100\n",
            "41/41 [==============================] - 2s 41ms/step - loss: 0.2614 - accuracy: 0.8943 - val_loss: 0.2366 - val_accuracy: 0.9094\n",
            "Epoch 33/100\n",
            "41/41 [==============================] - 2s 49ms/step - loss: 0.2475 - accuracy: 0.9016 - val_loss: 0.2300 - val_accuracy: 0.8990\n",
            "Epoch 34/100\n",
            "41/41 [==============================] - 2s 43ms/step - loss: 0.2233 - accuracy: 0.9136 - val_loss: 0.1930 - val_accuracy: 0.9373\n",
            "Epoch 35/100\n",
            "41/41 [==============================] - 2s 44ms/step - loss: 0.2092 - accuracy: 0.9222 - val_loss: 0.2208 - val_accuracy: 0.9233\n",
            "Epoch 36/100\n",
            "41/41 [==============================] - 2s 47ms/step - loss: 0.1885 - accuracy: 0.9291 - val_loss: 0.1973 - val_accuracy: 0.9338\n",
            "Epoch 37/100\n",
            "41/41 [==============================] - 2s 38ms/step - loss: 0.1857 - accuracy: 0.9322 - val_loss: 0.1566 - val_accuracy: 0.9477\n",
            "Epoch 38/100\n",
            "41/41 [==============================] - 2s 39ms/step - loss: 0.1802 - accuracy: 0.9342 - val_loss: 0.1597 - val_accuracy: 0.9443\n",
            "Epoch 39/100\n",
            "41/41 [==============================] - 2s 40ms/step - loss: 0.2102 - accuracy: 0.9171 - val_loss: 0.2100 - val_accuracy: 0.9024\n",
            "Epoch 40/100\n",
            "41/41 [==============================] - 2s 39ms/step - loss: 0.1954 - accuracy: 0.9253 - val_loss: 0.2080 - val_accuracy: 0.9338\n",
            "Epoch 41/100\n",
            "41/41 [==============================] - 2s 39ms/step - loss: 0.1788 - accuracy: 0.9284 - val_loss: 0.1757 - val_accuracy: 0.9338\n",
            "Epoch 42/100\n",
            "41/41 [==============================] - 2s 38ms/step - loss: 0.1707 - accuracy: 0.9342 - val_loss: 0.2623 - val_accuracy: 0.8885\n",
            "Epoch 43/100\n",
            "41/41 [==============================] - 2s 45ms/step - loss: 0.3571 - accuracy: 0.8602 - val_loss: 0.3354 - val_accuracy: 0.8606\n",
            "Epoch 44/100\n",
            "41/41 [==============================] - 2s 45ms/step - loss: 0.2721 - accuracy: 0.8993 - val_loss: 0.2077 - val_accuracy: 0.9303\n",
            "Epoch 45/100\n",
            "41/41 [==============================] - 2s 38ms/step - loss: 0.5120 - accuracy: 0.7428 - val_loss: 0.6137 - val_accuracy: 0.6202\n",
            "Epoch 46/100\n",
            "41/41 [==============================] - 2s 38ms/step - loss: 0.5641 - accuracy: 0.7149 - val_loss: 0.5109 - val_accuracy: 0.7631\n",
            "Epoch 47/100\n",
            "41/41 [==============================] - 2s 38ms/step - loss: 0.4595 - accuracy: 0.7901 - val_loss: 0.4451 - val_accuracy: 0.8118\n",
            "Epoch 48/100\n",
            "41/41 [==============================] - 2s 39ms/step - loss: 0.3833 - accuracy: 0.8362 - val_loss: 0.3779 - val_accuracy: 0.8397\n",
            "Epoch 49/100\n",
            "41/41 [==============================] - 2s 40ms/step - loss: 0.3274 - accuracy: 0.8668 - val_loss: 0.3181 - val_accuracy: 0.8780\n",
            "Epoch 50/100\n",
            "41/41 [==============================] - 2s 39ms/step - loss: 0.2783 - accuracy: 0.8892 - val_loss: 0.2862 - val_accuracy: 0.8850\n",
            "Epoch 51/100\n",
            "41/41 [==============================] - 2s 49ms/step - loss: 0.2573 - accuracy: 0.8923 - val_loss: 0.2769 - val_accuracy: 0.9059\n",
            "Epoch 52/100\n",
            "41/41 [==============================] - 2s 44ms/step - loss: 0.2251 - accuracy: 0.9094 - val_loss: 0.2581 - val_accuracy: 0.9094\n",
            "Epoch 53/100\n",
            "41/41 [==============================] - 2s 38ms/step - loss: 0.2074 - accuracy: 0.9198 - val_loss: 0.2699 - val_accuracy: 0.9164\n",
            "Epoch 54/100\n",
            "41/41 [==============================] - 2s 39ms/step - loss: 0.2151 - accuracy: 0.9233 - val_loss: 0.2640 - val_accuracy: 0.9059\n",
            "Epoch 55/100\n",
            "41/41 [==============================] - 2s 38ms/step - loss: 0.1884 - accuracy: 0.9307 - val_loss: 0.2554 - val_accuracy: 0.9199\n",
            "Epoch 56/100\n",
            "41/41 [==============================] - 2s 38ms/step - loss: 0.1998 - accuracy: 0.9256 - val_loss: 0.2460 - val_accuracy: 0.9199\n",
            "Epoch 57/100\n",
            "41/41 [==============================] - 2s 38ms/step - loss: 0.1797 - accuracy: 0.9380 - val_loss: 0.2397 - val_accuracy: 0.9268\n",
            "Epoch 58/100\n",
            "41/41 [==============================] - 2s 41ms/step - loss: 0.1854 - accuracy: 0.9291 - val_loss: 0.2259 - val_accuracy: 0.9268\n",
            "Epoch 59/100\n",
            "41/41 [==============================] - 2s 48ms/step - loss: 0.1725 - accuracy: 0.9338 - val_loss: 0.2541 - val_accuracy: 0.9059\n",
            "Epoch 60/100\n",
            "41/41 [==============================] - 2s 41ms/step - loss: 0.1618 - accuracy: 0.9427 - val_loss: 0.2266 - val_accuracy: 0.9268\n",
            "Epoch 61/100\n",
            "41/41 [==============================] - 2s 38ms/step - loss: 0.1486 - accuracy: 0.9450 - val_loss: 0.2221 - val_accuracy: 0.9164\n",
            "Epoch 62/100\n",
            "41/41 [==============================] - 2s 38ms/step - loss: 0.1388 - accuracy: 0.9527 - val_loss: 0.2089 - val_accuracy: 0.9268\n",
            "Epoch 63/100\n",
            "41/41 [==============================] - 2s 38ms/step - loss: 0.1394 - accuracy: 0.9512 - val_loss: 0.1907 - val_accuracy: 0.9303\n",
            "Epoch 64/100\n",
            "41/41 [==============================] - 2s 38ms/step - loss: 0.1274 - accuracy: 0.9605 - val_loss: 0.2585 - val_accuracy: 0.9094\n",
            "Epoch 65/100\n",
            "41/41 [==============================] - 2s 38ms/step - loss: 0.2160 - accuracy: 0.9167 - val_loss: 0.2711 - val_accuracy: 0.9024\n",
            "Epoch 66/100\n",
            "41/41 [==============================] - 2s 41ms/step - loss: 0.2025 - accuracy: 0.9222 - val_loss: 0.2438 - val_accuracy: 0.9129\n",
            "Epoch 67/100\n",
            "41/41 [==============================] - 2s 48ms/step - loss: 0.1678 - accuracy: 0.9388 - val_loss: 0.2398 - val_accuracy: 0.9094\n",
            "Epoch 68/100\n",
            "41/41 [==============================] - 2s 40ms/step - loss: 0.1298 - accuracy: 0.9566 - val_loss: 0.2225 - val_accuracy: 0.9408\n",
            "Epoch 69/100\n",
            "41/41 [==============================] - 2s 38ms/step - loss: 0.1221 - accuracy: 0.9566 - val_loss: 0.2199 - val_accuracy: 0.9233\n",
            "Epoch 70/100\n",
            "41/41 [==============================] - 2s 38ms/step - loss: 0.1123 - accuracy: 0.9628 - val_loss: 0.2305 - val_accuracy: 0.9233\n",
            "Epoch 71/100\n",
            "41/41 [==============================] - 2s 38ms/step - loss: 0.1063 - accuracy: 0.9644 - val_loss: 0.2413 - val_accuracy: 0.9268\n",
            "Epoch 72/100\n",
            "41/41 [==============================] - 2s 38ms/step - loss: 0.0902 - accuracy: 0.9733 - val_loss: 0.2457 - val_accuracy: 0.9199\n",
            "Epoch 73/100\n",
            "41/41 [==============================] - 2s 38ms/step - loss: 0.1007 - accuracy: 0.9679 - val_loss: 0.2513 - val_accuracy: 0.9094\n",
            "Epoch 74/100\n",
            "41/41 [==============================] - 2s 42ms/step - loss: 0.1061 - accuracy: 0.9640 - val_loss: 0.2055 - val_accuracy: 0.9303\n",
            "Epoch 75/100\n",
            "41/41 [==============================] - 2s 47ms/step - loss: 0.0962 - accuracy: 0.9682 - val_loss: 0.2296 - val_accuracy: 0.9303\n",
            "Epoch 76/100\n",
            "41/41 [==============================] - 2s 39ms/step - loss: 0.0950 - accuracy: 0.9694 - val_loss: 0.1954 - val_accuracy: 0.9268\n",
            "Epoch 77/100\n",
            "41/41 [==============================] - 2s 39ms/step - loss: 0.0874 - accuracy: 0.9710 - val_loss: 0.2069 - val_accuracy: 0.9303\n",
            "Epoch 78/100\n",
            "41/41 [==============================] - 2s 38ms/step - loss: 0.0837 - accuracy: 0.9721 - val_loss: 0.2096 - val_accuracy: 0.9373\n",
            "Epoch 79/100\n",
            "41/41 [==============================] - 2s 38ms/step - loss: 0.0814 - accuracy: 0.9744 - val_loss: 0.2213 - val_accuracy: 0.9268\n",
            "Epoch 80/100\n",
            "41/41 [==============================] - 2s 38ms/step - loss: 0.0657 - accuracy: 0.9795 - val_loss: 0.2570 - val_accuracy: 0.9199\n",
            "Epoch 81/100\n",
            "41/41 [==============================] - 2s 38ms/step - loss: 0.0835 - accuracy: 0.9737 - val_loss: 0.2690 - val_accuracy: 0.9129\n",
            "Epoch 82/100\n",
            "41/41 [==============================] - 2s 44ms/step - loss: 0.0908 - accuracy: 0.9675 - val_loss: 0.3035 - val_accuracy: 0.9024\n",
            "Epoch 83/100\n",
            "41/41 [==============================] - 2s 47ms/step - loss: 0.0908 - accuracy: 0.9679 - val_loss: 0.3372 - val_accuracy: 0.9024\n",
            "Epoch 84/100\n",
            "41/41 [==============================] - 2s 38ms/step - loss: 0.1666 - accuracy: 0.9311 - val_loss: 0.2826 - val_accuracy: 0.9059\n",
            "Epoch 85/100\n",
            "41/41 [==============================] - 2s 39ms/step - loss: 0.1226 - accuracy: 0.9543 - val_loss: 0.2234 - val_accuracy: 0.9303\n",
            "Epoch 86/100\n",
            "41/41 [==============================] - 2s 38ms/step - loss: 0.0852 - accuracy: 0.9710 - val_loss: 0.2108 - val_accuracy: 0.9303\n",
            "Epoch 87/100\n",
            "41/41 [==============================] - 2s 38ms/step - loss: 0.0887 - accuracy: 0.9710 - val_loss: 0.2493 - val_accuracy: 0.9268\n",
            "Epoch 88/100\n",
            "41/41 [==============================] - 2s 38ms/step - loss: 0.0835 - accuracy: 0.9698 - val_loss: 0.2589 - val_accuracy: 0.9268\n",
            "Epoch 89/100\n",
            "41/41 [==============================] - 2s 38ms/step - loss: 0.0646 - accuracy: 0.9802 - val_loss: 0.2414 - val_accuracy: 0.9303\n",
            "Epoch 90/100\n",
            "41/41 [==============================] - 2s 44ms/step - loss: 0.0667 - accuracy: 0.9818 - val_loss: 0.2434 - val_accuracy: 0.9338\n",
            "Epoch 91/100\n",
            "41/41 [==============================] - 2s 47ms/step - loss: 0.1130 - accuracy: 0.9632 - val_loss: 0.2183 - val_accuracy: 0.9164\n",
            "Epoch 92/100\n",
            "41/41 [==============================] - 2s 40ms/step - loss: 0.0832 - accuracy: 0.9737 - val_loss: 0.2071 - val_accuracy: 0.9338\n",
            "Epoch 93/100\n",
            "41/41 [==============================] - 2s 38ms/step - loss: 0.0627 - accuracy: 0.9810 - val_loss: 0.2396 - val_accuracy: 0.9233\n",
            "Epoch 94/100\n",
            "41/41 [==============================] - 2s 38ms/step - loss: 0.0537 - accuracy: 0.9857 - val_loss: 0.2639 - val_accuracy: 0.9338\n",
            "Epoch 95/100\n",
            "41/41 [==============================] - 2s 40ms/step - loss: 0.0884 - accuracy: 0.9694 - val_loss: 0.2212 - val_accuracy: 0.9443\n",
            "Epoch 96/100\n",
            "41/41 [==============================] - 2s 38ms/step - loss: 0.0666 - accuracy: 0.9771 - val_loss: 0.2264 - val_accuracy: 0.9303\n",
            "Epoch 97/100\n",
            "41/41 [==============================] - 2s 38ms/step - loss: 0.0778 - accuracy: 0.9733 - val_loss: 0.1746 - val_accuracy: 0.9477\n",
            "Epoch 98/100\n",
            "41/41 [==============================] - 2s 48ms/step - loss: 0.0500 - accuracy: 0.9857 - val_loss: 0.1784 - val_accuracy: 0.9443\n",
            "Epoch 99/100\n",
            "41/41 [==============================] - 2s 45ms/step - loss: 0.0560 - accuracy: 0.9830 - val_loss: 0.2113 - val_accuracy: 0.9547\n",
            "Epoch 100/100\n",
            "41/41 [==============================] - 2s 40ms/step - loss: 0.0394 - accuracy: 0.9907 - val_loss: 0.2388 - val_accuracy: 0.9373\n",
            "23/23 [==============================] - 0s 15ms/step - loss: 0.2282 - accuracy: 0.9373\n",
            "Test Loss: 0.2282424122095108\n",
            "Test Accuracy: 0.9373258948326111\n"
          ]
        }
      ],
      "source": [
        "import numpy as np\n",
        "import tensorflow as tf\n",
        "from keras.models import Sequential\n",
        "from keras.layers import Conv1D, MaxPooling1D, LSTM, Dense, Flatten, Bidirectional\n",
        "\n",
        "# Define model parameters\n",
        "num_classes = 2\n",
        "input_shape = (1000, 3)  # assuming 1000 time steps and 3 features\n",
        "\n",
        "# Reshape the data to fit the CNN input shape\n",
        "X_train_cnn = X_tr.reshape((-1, input_shape[0], input_shape[1]))  # reshape without channel dimension\n",
        "X_test_cnn = X_ts.reshape((-1, input_shape[0], input_shape[1]))\n",
        "\n",
        "# Define CNN-Bi-LSTM model architecture\n",
        "model = Sequential([\n",
        "    Conv1D(64, kernel_size=3, activation='relu', input_shape=input_shape),\n",
        "    MaxPooling1D(pool_size=2),\n",
        "    Conv1D(128, kernel_size=3, activation='relu'),\n",
        "    MaxPooling1D(pool_size=2),\n",
        "    Bidirectional(LSTM(64, return_sequences=True)),\n",
        "    Bidirectional(LSTM(32)),\n",
        "    Dense(num_classes, activation='softmax')\n",
        "])\n",
        "\n",
        "# Compile the model\n",
        "model.compile(optimizer='adam',\n",
        "              loss='sparse_categorical_crossentropy',\n",
        "              metrics=['accuracy'])\n",
        "\n",
        "# Print model summary\n",
        "model.summary()\n",
        "\n",
        "# Train the model\n",
        "model.fit(X_train_cnn, Y_tr, epochs=100, batch_size=64, validation_split=0.1)\n",
        "\n",
        "# Evaluate the model on test data\n",
        "loss, accuracy = model.evaluate(X_test_cnn, Y_ts)\n",
        "print(\"Test Loss:\", loss)\n",
        "print(\"Test Accuracy:\", accuracy)\n"
      ]
    },
    {
      "cell_type": "markdown",
      "metadata": {
        "id": "dpGhp8JCsl2D"
      },
      "source": []
    }
  ],
  "metadata": {
    "accelerator": "GPU",
    "colab": {
      "gpuType": "T4",
      "provenance": []
    },
    "kernelspec": {
      "display_name": "Python 3",
      "name": "python3"
    },
    "language_info": {
      "name": "python"
    }
  },
  "nbformat": 4,
  "nbformat_minor": 0
}